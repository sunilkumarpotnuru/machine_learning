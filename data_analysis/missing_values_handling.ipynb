{
 "cells": [
  {
   "cell_type": "markdown",
   "metadata": {},
   "source": [
    "# Handling Missing Values"
   ]
  },
  {
   "cell_type": "markdown",
   "metadata": {},
   "source": [
    "### We can represent missing values in python using two special values (sentinel types):\n",
    "    1. NaN - from numpy, special IEEE floating point value\n",
    "    2. None - Python Object"
   ]
  },
  {
   "cell_type": "code",
   "execution_count": 8,
   "metadata": {},
   "outputs": [
    {
     "name": "stdout",
     "output_type": "stream",
     "text": [
      "type of nan is :  <class 'float'>\n",
      "print type of None is :  <class 'NoneType'>\n"
     ]
    }
   ],
   "source": [
    "import numpy as np\n",
    "\n",
    "print(\"type of nan is : \",type(np.nan))\n",
    "print(\"print type of None is : \",type(None))"
   ]
  },
  {
   "cell_type": "markdown",
   "metadata": {},
   "source": [
    "### Differences:\n",
    "    w.r.t type:\n",
    "    1. Using NaN in a numpy array converts the elements in array to type float\n",
    "    2. Using None in a numpy array converts the elements in array to type object"
   ]
  },
  {
   "cell_type": "code",
   "execution_count": 9,
   "metadata": {},
   "outputs": [
    {
     "name": "stdout",
     "output_type": "stream",
     "text": [
      "numpy array having NaN: [ 1.  2. nan] \n",
      " type of array :  <class 'numpy.ndarray'> \n",
      " type of elements in array: float64\n",
      "\n",
      "numpy array having None: [1 2 None] \n",
      " type of array :  <class 'numpy.ndarray'> \n",
      " type of elements in array: object\n"
     ]
    }
   ],
   "source": [
    "arr_with_nan = np.array([1,2,np.NaN])\n",
    "arr_with_none = np.array([1,2,None])\n",
    "\n",
    "print(\"numpy array having NaN:\",arr_with_nan ,\"\\n type of array : \",type(arr_with_nan),\"\\n type of elements in array:\",arr_with_nan.dtype)\n",
    "print()\n",
    "print(\"numpy array having None:\",arr_with_none ,\"\\n type of array : \",type(arr_with_none),\"\\n type of elements in array:\",arr_with_none.dtype)\n"
   ]
  },
  {
   "cell_type": "markdown",
   "metadata": {},
   "source": [
    "### Differences w.r.t to computation speed between floating values array and objects array:\n",
    "    Aggregation operations on array with floating point values takes much lesser time compared to array with elements of type object because of additional overhead involved with objects. \n",
    "    So whenever possible, using NaN instead of None to represent missing values can help in faster computation, especially when aggregation operations on arrays are invloved."
   ]
  },
  {
   "cell_type": "code",
   "execution_count": 10,
   "metadata": {},
   "outputs": [
    {
     "name": "stdout",
     "output_type": "stream",
     "text": [
      "array of elements with type float :  [0.00000e+00 1.00000e+00 2.00000e+00 ... 9.99997e+05 9.99998e+05\n",
      " 9.99999e+05] \n",
      " type of elements: float64\n",
      "\n",
      "array of elements with type object:  [0 1 2 ... 999997 999998 999999] \n",
      " type of elements: object\n"
     ]
    }
   ],
   "source": [
    "arr_of_float = np.arange(1E6,dtype=float)\n",
    "arr_of_obj = np.arange(1E6,dtype=object)\n",
    "\n",
    "print(\"array of elements with type float : \",arr_of_float,\"\\n type of elements:\",arr_of_float.dtype)\n",
    "print()\n",
    "print(\"array of elements with type object: \",arr_of_obj,\"\\n type of elements:\",arr_of_obj.dtype)\n"
   ]
  },
  {
   "cell_type": "code",
   "execution_count": 11,
   "metadata": {},
   "outputs": [
    {
     "name": "stdout",
     "output_type": "stream",
     "text": [
      "243 µs ± 14 µs per loop (mean ± std. dev. of 7 runs, 1000 loops each)\n",
      "22.3 ms ± 322 µs per loop (mean ± std. dev. of 7 runs, 10 loops each)\n"
     ]
    }
   ],
   "source": [
    "%timeit arr_of_float.sum()\n",
    "%timeit arr_of_obj.sum()"
   ]
  },
  {
   "cell_type": "code",
   "execution_count": 12,
   "metadata": {},
   "outputs": [
    {
     "name": "stdout",
     "output_type": "stream",
     "text": [
      "nan nan\n",
      "nan nan\n"
     ]
    }
   ],
   "source": [
    "print(arr_with_nan.sum(),arr_with_nan.max())\n",
    "print(1+np.NaN,0*np.NaN)"
   ]
  },
  {
   "cell_type": "markdown",
   "metadata": {},
   "source": [
    "Performing these aggregation and arithmetic operations on nan values result in nan. Alternatively we can use other methods when we want aggregated values even in the presence of nan."
   ]
  },
  {
   "cell_type": "code",
   "execution_count": 13,
   "metadata": {},
   "outputs": [
    {
     "name": "stdout",
     "output_type": "stream",
     "text": [
      "sum of array having nan with another method :  3.0\n",
      "mean of array having nan with another method :  1.5\n",
      "max value of array having nan with another method :  2.0\n"
     ]
    }
   ],
   "source": [
    "print(\"sum of array having nan with another method : \",np.nansum(arr_with_nan))\n",
    "print(\"mean of array having nan with another method : \",np.nanmean(arr_with_nan))\n",
    "print(\"max value of array having nan with another method : \",np.nanmax(arr_with_nan))"
   ]
  },
  {
   "cell_type": "markdown",
   "metadata": {},
   "source": [
    "The same arithmetic or aggregation operations on NoneType object would result in error, as the operations are not defined for the operand type object."
   ]
  },
  {
   "cell_type": "code",
   "execution_count": 14,
   "metadata": {},
   "outputs": [
    {
     "ename": "TypeError",
     "evalue": "unsupported operand type(s) for +: 'int' and 'NoneType'",
     "output_type": "error",
     "traceback": [
      "\u001b[0;31m---------------------------------------------------------------------------\u001b[0m",
      "\u001b[0;31mTypeError\u001b[0m                                 Traceback (most recent call last)",
      "\u001b[0;32m<ipython-input-14-36bdee866705>\u001b[0m in \u001b[0;36m<module>\u001b[0;34m\u001b[0m\n\u001b[1;32m      1\u001b[0m \u001b[0;31m# the following lines provide demo that they generate error\u001b[0m\u001b[0;34m\u001b[0m\u001b[0;34m\u001b[0m\u001b[0;34m\u001b[0m\u001b[0m\n\u001b[0;32m----> 2\u001b[0;31m \u001b[0mprint\u001b[0m\u001b[0;34m(\u001b[0m\u001b[0;36m1\u001b[0m\u001b[0;34m+\u001b[0m\u001b[0;32mNone\u001b[0m\u001b[0;34m,\u001b[0m \u001b[0;36m0\u001b[0m\u001b[0;34m*\u001b[0m\u001b[0;32mNone\u001b[0m\u001b[0;34m)\u001b[0m\u001b[0;34m\u001b[0m\u001b[0;34m\u001b[0m\u001b[0m\n\u001b[0m\u001b[1;32m      3\u001b[0m \u001b[0mprint\u001b[0m\u001b[0;34m(\u001b[0m\u001b[0marr_with_none\u001b[0m\u001b[0;34m.\u001b[0m\u001b[0msum\u001b[0m\u001b[0;34m(\u001b[0m\u001b[0;34m)\u001b[0m\u001b[0;34m)\u001b[0m\u001b[0;34m\u001b[0m\u001b[0;34m\u001b[0m\u001b[0m\n",
      "\u001b[0;31mTypeError\u001b[0m: unsupported operand type(s) for +: 'int' and 'NoneType'"
     ]
    }
   ],
   "source": [
    "# the following lines provide demo that they generate error\n",
    "print(1+None, 0*None)\n",
    "print(arr_with_none.sum())"
   ]
  },
  {
   "cell_type": "markdown",
   "metadata": {},
   "source": [
    "## NaN and None in Pandas:\n",
    "    Both NaN and None can be used in pandas. However, pandas converts NaN to None and viceversa wherever appropriate."
   ]
  },
  {
   "cell_type": "code",
   "execution_count": 15,
   "metadata": {},
   "outputs": [
    {
     "name": "stdout",
     "output_type": "stream",
     "text": [
      "pandas series with only NaN :\n",
      " 0    1.0\n",
      "1    2.0\n",
      "2    NaN\n",
      "dtype: float64\n",
      "\n",
      "pandas series with only None:\n",
      " 0    1.0\n",
      "1    2.0\n",
      "2    NaN\n",
      "dtype: float64\n",
      "\n",
      "pandas series having both NaN and None:\n",
      " 0    1.0\n",
      "1    2.0\n",
      "2    NaN\n",
      "3    NaN\n",
      "dtype: float64\n"
     ]
    }
   ],
   "source": [
    "import pandas as pd\n",
    "\n",
    "print(\"pandas series with only NaN :\\n\",pd.Series([1,2,np.NaN]))\n",
    "print()\n",
    "print(\"pandas series with only None:\\n\",pd.Series([1,2,None]))\n",
    "print()\n",
    "print(\"pandas series having both NaN and None:\\n\",pd.Series([1,2,np.NaN,None]))"
   ]
  },
  {
   "cell_type": "markdown",
   "metadata": {},
   "source": [
    "None object got converted to NaN and the whole elements of array have become type float."
   ]
  },
  {
   "cell_type": "code",
   "execution_count": 16,
   "metadata": {},
   "outputs": [
    {
     "name": "stdout",
     "output_type": "stream",
     "text": [
      "a sample pandas series : \n",
      " 0    1\n",
      "1    2\n",
      "dtype: int64\n"
     ]
    }
   ],
   "source": [
    "# creating a sample pandas series with int elements\n",
    "pd_series = pd.Series([1,2],dtype=int)\n",
    "print(\"a sample pandas series : \\n\", pd_series)"
   ]
  },
  {
   "cell_type": "code",
   "execution_count": 17,
   "metadata": {},
   "outputs": [
    {
     "name": "stdout",
     "output_type": "stream",
     "text": [
      "sample pandas series after assigning NaN value:\n",
      " 0    NaN\n",
      "1    2.0\n",
      "dtype: float64\n"
     ]
    }
   ],
   "source": [
    "#assigning a NaN value to one of the elements in series\n",
    "pd_series[0] = np.NaN\n",
    "print(\"sample pandas series after assigning NaN value:\\n\", pd_series)"
   ]
  },
  {
   "cell_type": "markdown",
   "metadata": {},
   "source": [
    "The dtype of pandas series got changed from int to float because of assinging an NaN value"
   ]
  },
  {
   "cell_type": "code",
   "execution_count": 18,
   "metadata": {},
   "outputs": [
    {
     "name": "stdout",
     "output_type": "stream",
     "text": [
      "sample pandas series after assigning NoneType object:\n",
      " 0    NaN\n",
      "1    2.0\n",
      "dtype: float64\n"
     ]
    }
   ],
   "source": [
    "#assigning a NoneType to pandas series with int elements\n",
    "pd_series = pd.Series([1,2],dtype=int)\n",
    "pd_series[0] = None\n",
    "print(\"sample pandas series after assigning NoneType object:\\n\", pd_series)"
   ]
  },
  {
   "cell_type": "markdown",
   "metadata": {},
   "source": [
    "The dtype of pandas series got changed from int to float because of assinging a None value but not to dtype object unlike in numpy array. So pandas casted integer array to floating point values and also converted None to NaN."
   ]
  },
  {
   "cell_type": "code",
   "execution_count": 19,
   "metadata": {},
   "outputs": [
    {
     "name": "stdout",
     "output_type": "stream",
     "text": [
      "pandas series with boolean values : \n",
      " 0     True\n",
      "1    False\n",
      "2     True\n",
      "3    False\n",
      "dtype: bool\n",
      "pandas series after assigning NaN to an element : \n",
      " 0    NaN\n",
      "1    0.0\n",
      "2    1.0\n",
      "3    0.0\n",
      "dtype: float64\n"
     ]
    }
   ],
   "source": [
    "# similarly for a pandas series with boolean values with NaN assignment\n",
    "pd_series_with_boolean_val = pd.Series([True,False,True,False])\n",
    "print(\"pandas series with boolean values : \\n\",pd_series_with_boolean_val)\n",
    "pd_series_with_boolean_val[0] = np.NaN\n",
    "print(\"pandas series after assigning NaN to an element : \\n\",pd_series_with_boolean_val)"
   ]
  },
  {
   "cell_type": "markdown",
   "metadata": {},
   "source": [
    "boolean type pandas series got converted to a float type series because of assigning NaN. All True values became 1 and False values became 0. The value to which NaN is assigned remained as NaN."
   ]
  },
  {
   "cell_type": "code",
   "execution_count": 20,
   "metadata": {},
   "outputs": [
    {
     "name": "stdout",
     "output_type": "stream",
     "text": [
      "pandas series with boolean values : \n",
      " 0     True\n",
      "1    False\n",
      "2     True\n",
      "3    False\n",
      "dtype: bool\n",
      "pandas series after assigning None to an element : \n",
      " 0    False\n",
      "1    False\n",
      "2     True\n",
      "3    False\n",
      "dtype: bool\n"
     ]
    }
   ],
   "source": [
    "# similarly for a pandas series with boolean values with None assignment\n",
    "pd_series_with_boolean_val = pd.Series([True,False,True,False])\n",
    "print(\"pandas series with boolean values : \\n\",pd_series_with_boolean_val)\n",
    "pd_series_with_boolean_val[0] = None\n",
    "print(\"pandas series after assigning None to an element : \\n\",pd_series_with_boolean_val)"
   ]
  },
  {
   "cell_type": "markdown",
   "metadata": {},
   "source": [
    "boolean type pandas series remained as boolean type series even after assigning None. The element to which None is assigned got converted as False boolean value."
   ]
  },
  {
   "cell_type": "code",
   "execution_count": 21,
   "metadata": {},
   "outputs": [
    {
     "name": "stdout",
     "output_type": "stream",
     "text": [
      "pandas series having a string element : \n",
      " 0        1\n",
      "1        2\n",
      "2     True\n",
      "3    test1\n",
      "4    test2\n",
      "dtype: object\n",
      "pandas series after assigning NaN to an element : \n",
      " 0      NaN\n",
      "1        2\n",
      "2     True\n",
      "3    test1\n",
      "4    test2\n",
      "dtype: object\n"
     ]
    }
   ],
   "source": [
    "# similarly for a pandas series with boolean values with NaN assignment\n",
    "pd_series_with_strings = pd.Series([1,2,True,\"test1\",\"test2\"])\n",
    "print(\"pandas series having a string element : \\n\",pd_series_with_strings)\n",
    "pd_series_with_strings[0] = np.NaN\n",
    "print(\"pandas series after assigning NaN to an element : \\n\",pd_series_with_strings)"
   ]
  },
  {
   "cell_type": "code",
   "execution_count": 22,
   "metadata": {},
   "outputs": [
    {
     "name": "stdout",
     "output_type": "stream",
     "text": [
      "pandas series having a string element : \n",
      " 0        1\n",
      "1        2\n",
      "2     True\n",
      "3    test1\n",
      "4    test2\n",
      "dtype: object\n",
      "pandas series after assigning None to an element : \n",
      " 0     None\n",
      "1        2\n",
      "2     True\n",
      "3    test1\n",
      "4    test2\n",
      "dtype: object\n"
     ]
    }
   ],
   "source": [
    "pd_series_with_strings = pd.Series([1,2,True,\"test1\",\"test2\"])\n",
    "print(\"pandas series having a string element : \\n\",pd_series_with_strings)\n",
    "pd_series_with_strings[0] = None\n",
    "print(\"pandas series after assigning None to an element : \\n\",pd_series_with_strings)"
   ]
  },
  {
   "cell_type": "markdown",
   "metadata": {},
   "source": [
    "## Operating on Null/Missing values"
   ]
  },
  {
   "cell_type": "markdown",
   "metadata": {},
   "source": [
    "## Detecting Null Values\n",
    "    we can use isnull() method to detect missing values. We can also use notnull() method for detecting non null values."
   ]
  },
  {
   "cell_type": "code",
   "execution_count": 23,
   "metadata": {},
   "outputs": [
    {
     "name": "stdout",
     "output_type": "stream",
     "text": [
      "pandas series is : \n",
      " 0        1\n",
      "1        2\n",
      "2        3\n",
      "3      NaN\n",
      "4        4\n",
      "5      NaN\n",
      "6     None\n",
      "7    test1\n",
      "dtype: object\n",
      "\n",
      "output of isnull method :\n",
      "  0    False\n",
      "1    False\n",
      "2    False\n",
      "3     True\n",
      "4    False\n",
      "5     True\n",
      "6     True\n",
      "7    False\n",
      "dtype: bool\n"
     ]
    }
   ],
   "source": [
    "pd_series_with_missing_values = pd.Series([1,2,3,np.NaN,4,np.NaN,None,\"test1\"])\n",
    "print(\"pandas series is : \\n\",pd_series_with_missing_values)\n",
    "print()\n",
    "print(\"output of isnull method :\\n \",pd_series_with_missing_values.isnull())"
   ]
  },
  {
   "cell_type": "markdown",
   "metadata": {},
   "source": [
    "pandas isnull() returns a boolean mask indicating missing values"
   ]
  },
  {
   "cell_type": "code",
   "execution_count": 24,
   "metadata": {},
   "outputs": [
    {
     "name": "stdout",
     "output_type": "stream",
     "text": [
      "output of notnull method : \n",
      " 0     True\n",
      "1     True\n",
      "2     True\n",
      "3    False\n",
      "4     True\n",
      "5    False\n",
      "6    False\n",
      "7     True\n",
      "dtype: bool\n"
     ]
    }
   ],
   "source": [
    "print(\"output of notnull method : \\n\",pd_series_with_missing_values.notnull())"
   ]
  },
  {
   "cell_type": "markdown",
   "metadata": {},
   "source": [
    "pandas notnull() returns a boolean mask indicating values - opposite of isnull()"
   ]
  },
  {
   "cell_type": "markdown",
   "metadata": {},
   "source": [
    "Advantage of getting a boolean mask array is that we can use it for indexing a pandas series or a dataframe."
   ]
  },
  {
   "cell_type": "code",
   "execution_count": 25,
   "metadata": {},
   "outputs": [
    {
     "name": "stdout",
     "output_type": "stream",
     "text": [
      "0        1\n",
      "1        2\n",
      "2        3\n",
      "4        4\n",
      "7    test1\n",
      "dtype: object\n"
     ]
    }
   ],
   "source": [
    "print(pd_series_with_missing_values[pd_series_with_missing_values.notnull()])"
   ]
  },
  {
   "cell_type": "markdown",
   "metadata": {},
   "source": [
    "We got a subset of the series which are not null using this boolean mask obtained from notnull()."
   ]
  },
  {
   "cell_type": "code",
   "execution_count": 26,
   "metadata": {},
   "outputs": [
    {
     "name": "stdout",
     "output_type": "stream",
     "text": [
      "3     NaN\n",
      "5     NaN\n",
      "6    None\n",
      "dtype: object\n"
     ]
    }
   ],
   "source": [
    "print(pd_series_with_missing_values[pd_series_with_missing_values.isnull()])"
   ]
  },
  {
   "cell_type": "markdown",
   "metadata": {},
   "source": [
    "We got a subset of the series which are null using the boolean mask obtained from isnull()."
   ]
  },
  {
   "cell_type": "markdown",
   "metadata": {},
   "source": [
    "## Dropping Null Values"
   ]
  },
  {
   "cell_type": "code",
   "execution_count": 27,
   "metadata": {},
   "outputs": [
    {
     "name": "stdout",
     "output_type": "stream",
     "text": [
      "pandas series after dropping the null values : \n",
      " 0        1\n",
      "1        2\n",
      "2        3\n",
      "4        4\n",
      "7    test1\n",
      "dtype: object\n"
     ]
    }
   ],
   "source": [
    "print(\"pandas series after dropping the null values : \\n\",pd_series_with_missing_values.dropna())"
   ]
  },
  {
   "cell_type": "markdown",
   "metadata": {},
   "source": [
    "#### we have more options in dropping null values in a pandas dataframe:\n",
    "    1.we can drop rows having one or more or entirely null values.\n",
    "    2.we can drop  columns having one or more or entirely null values."
   ]
  },
  {
   "cell_type": "code",
   "execution_count": 28,
   "metadata": {},
   "outputs": [
    {
     "name": "stdout",
     "output_type": "stream",
     "text": [
      "pandas dataframe with missing values:\n",
      "      0    1    2\n",
      "0  1.0  2.0  NaN\n",
      "1  4.0  NaN  5.0\n",
      "2  4.0  6.0  8.0\n",
      "3  1.0  5.0  NaN\n",
      "4  NaN  NaN  NaN\n"
     ]
    }
   ],
   "source": [
    "#let's create a sample pandas dataframe\n",
    "pd_df_with_missing_values = pd.DataFrame([[1,2,np.NaN],[4,np.NaN,5],[4,6,8],[1,5,np.NaN],[np.NaN,np.NaN]])\n",
    "print(\"pandas dataframe with missing values:\\n\",pd_df_with_missing_values)"
   ]
  },
  {
   "cell_type": "code",
   "execution_count": 29,
   "metadata": {},
   "outputs": [
    {
     "data": {
      "text/html": [
       "<div>\n",
       "<style scoped>\n",
       "    .dataframe tbody tr th:only-of-type {\n",
       "        vertical-align: middle;\n",
       "    }\n",
       "\n",
       "    .dataframe tbody tr th {\n",
       "        vertical-align: top;\n",
       "    }\n",
       "\n",
       "    .dataframe thead th {\n",
       "        text-align: right;\n",
       "    }\n",
       "</style>\n",
       "<table border=\"1\" class=\"dataframe\">\n",
       "  <thead>\n",
       "    <tr style=\"text-align: right;\">\n",
       "      <th></th>\n",
       "      <th>0</th>\n",
       "      <th>1</th>\n",
       "      <th>2</th>\n",
       "    </tr>\n",
       "  </thead>\n",
       "  <tbody>\n",
       "    <tr>\n",
       "      <th>0</th>\n",
       "      <td>1.0</td>\n",
       "      <td>2.0</td>\n",
       "      <td>NaN</td>\n",
       "    </tr>\n",
       "    <tr>\n",
       "      <th>1</th>\n",
       "      <td>4.0</td>\n",
       "      <td>NaN</td>\n",
       "      <td>5.0</td>\n",
       "    </tr>\n",
       "    <tr>\n",
       "      <th>2</th>\n",
       "      <td>4.0</td>\n",
       "      <td>6.0</td>\n",
       "      <td>8.0</td>\n",
       "    </tr>\n",
       "    <tr>\n",
       "      <th>3</th>\n",
       "      <td>1.0</td>\n",
       "      <td>5.0</td>\n",
       "      <td>NaN</td>\n",
       "    </tr>\n",
       "    <tr>\n",
       "      <th>4</th>\n",
       "      <td>NaN</td>\n",
       "      <td>NaN</td>\n",
       "      <td>NaN</td>\n",
       "    </tr>\n",
       "    <tr>\n",
       "      <th>0</th>\n",
       "      <td>1.0</td>\n",
       "      <td>2.0</td>\n",
       "      <td>3.0</td>\n",
       "    </tr>\n",
       "  </tbody>\n",
       "</table>\n",
       "</div>"
      ],
      "text/plain": [
       "     0    1    2\n",
       "0  1.0  2.0  NaN\n",
       "1  4.0  NaN  5.0\n",
       "2  4.0  6.0  8.0\n",
       "3  1.0  5.0  NaN\n",
       "4  NaN  NaN  NaN\n",
       "0  1.0  2.0  3.0"
      ]
     },
     "execution_count": 29,
     "metadata": {},
     "output_type": "execute_result"
    }
   ],
   "source": [
    "pd_df_with_missing_values.append([[1,2,3]])"
   ]
  },
  {
   "cell_type": "code",
   "execution_count": 30,
   "metadata": {},
   "outputs": [
    {
     "name": "stdout",
     "output_type": "stream",
     "text": [
      "pandas dataframe with missing values:\n",
      "      0    1    2\n",
      "0  1.0  2.0  NaN\n",
      "1  4.0  NaN  5.0\n",
      "2  4.0  6.0  8.0\n",
      "3  1.0  5.0  NaN\n",
      "4  NaN  NaN  NaN\n",
      "\n",
      "pandas dataframe after dropping rows having null values:\n",
      "     0    1    2\n",
      "2  4.0  6.0  8.0\n",
      "\n",
      "pandas dataframe after dropping rows having null values using axis parameter set to 0:\n",
      "     0    1    2\n",
      "2  4.0  6.0  8.0\n",
      "\n",
      "pandas dataframe after dropping rows having null values using axis parameter set to rows:\n",
      "     0    1    2\n",
      "2  4.0  6.0  8.0\n"
     ]
    }
   ],
   "source": [
    "#droppping rows having atleast one null value\n",
    "\n",
    "#let's create a sample pandas dataframe\n",
    "print(\"pandas dataframe with missing values:\\n\",pd_df_with_missing_values)\n",
    "print()\n",
    "\n",
    "print(\"pandas dataframe after dropping rows having null values:\")\n",
    "print(pd_df_with_missing_values.dropna())\n",
    "\n",
    "print()\n",
    "\n",
    "print(\"pandas dataframe after dropping rows having null values using axis parameter set to 0:\")\n",
    "print(pd_df_with_missing_values.dropna(axis=0))\n",
    "\n",
    "\n",
    "print()\n",
    "\n",
    "print(\"pandas dataframe after dropping rows having null values using axis parameter set to rows:\")\n",
    "print(pd_df_with_missing_values.dropna(axis='rows'))\n",
    "\n"
   ]
  },
  {
   "cell_type": "code",
   "execution_count": 31,
   "metadata": {},
   "outputs": [
    {
     "name": "stdout",
     "output_type": "stream",
     "text": [
      "pandas dataframe with missing values:\n",
      "      0    1    2\n",
      "0  1.0  2.0  NaN\n",
      "1  4.0  NaN  5.0\n",
      "2  4.0  6.0  8.0\n",
      "3  1.0  5.0  NaN\n",
      "4  NaN  NaN  NaN\n",
      "\n",
      "pandas dataframe after dropping columns having null values:\n",
      "Empty DataFrame\n",
      "Columns: []\n",
      "Index: [0, 1, 2, 3, 4]\n",
      "\n",
      "pandas dataframe after dropping columns having null values:\n",
      "Empty DataFrame\n",
      "Columns: []\n",
      "Index: [0, 1, 2, 3, 4]\n"
     ]
    }
   ],
   "source": [
    "#droppping columns having atleast one null value\n",
    "\n",
    "\n",
    "print(\"pandas dataframe with missing values:\\n\",pd_df_with_missing_values)\n",
    "print()\n",
    "\n",
    "print(\"pandas dataframe after dropping columns having null values:\")\n",
    "print(pd_df_with_missing_values.dropna(axis=1))\n",
    "\n",
    "\n",
    "print()\n",
    "\n",
    "print(\"pandas dataframe after dropping columns having null values:\")\n",
    "print(pd_df_with_missing_values.dropna(axis='columns'))\n",
    "\n"
   ]
  },
  {
   "cell_type": "code",
   "execution_count": 32,
   "metadata": {},
   "outputs": [
    {
     "name": "stdout",
     "output_type": "stream",
     "text": [
      "pandas dataframe with missing values : \n",
      "      0    1    2  3\n",
      "0  1.0  2.0  NaN  1\n",
      "1  4.0  NaN  5.0  2\n",
      "2  4.0  6.0  8.0  3\n",
      "3  1.0  5.0  NaN  4\n",
      "4  NaN  NaN  NaN  5\n",
      "\n",
      "pandas dataframe after dropping columns having null values:\n",
      "   3\n",
      "0  1\n",
      "1  2\n",
      "2  3\n",
      "3  4\n",
      "4  5\n",
      "\n",
      "pandas dataframe after dropping columns having null values:\n",
      "   3\n",
      "0  1\n",
      "1  2\n",
      "2  3\n",
      "3  4\n",
      "4  5\n"
     ]
    }
   ],
   "source": [
    "#since all columns has atleast one null value, lets add one column with non null values to test \n",
    "\n",
    "\n",
    "pd_df_with_missing_values = pd.concat([pd_df_with_missing_values,pd.DataFrame([1,2,3,4,5])],axis = 1,ignore_index=True)\n",
    "print(\"pandas dataframe with missing values : \\n\",pd_df_with_missing_values)\n",
    "print()\n",
    "\n",
    "print(\"pandas dataframe after dropping columns having null values:\")\n",
    "print(pd_df_with_missing_values.dropna(axis=1))\n",
    "\n",
    "\n",
    "print()\n",
    "\n",
    "print(\"pandas dataframe after dropping columns having null values:\")\n",
    "print(pd_df_with_missing_values.dropna(axis='columns'))\n"
   ]
  },
  {
   "cell_type": "code",
   "execution_count": 33,
   "metadata": {},
   "outputs": [
    {
     "name": "stdout",
     "output_type": "stream",
     "text": [
      "pandas dataframe with missing values:\n",
      "      0    1    2  3\n",
      "0  1.0  2.0  NaN  1\n",
      "1  4.0  NaN  5.0  2\n",
      "2  4.0  6.0  8.0  3\n",
      "3  1.0  5.0  NaN  4\n",
      "4  NaN  NaN  NaN  5\n",
      "\n",
      "after dropping rows which contains a null value:\n",
      "      0    1    2  3\n",
      "2  4.0  6.0  8.0  3\n",
      "\n",
      "after dropping rows which contains only null values:\n",
      "      0    1    2  3\n",
      "0  1.0  2.0  NaN  1\n",
      "1  4.0  NaN  5.0  2\n",
      "2  4.0  6.0  8.0  3\n",
      "3  1.0  5.0  NaN  4\n",
      "4  NaN  NaN  NaN  5\n",
      "\n"
     ]
    }
   ],
   "source": [
    "## using how parameter to drop missing data\n",
    "print(\"pandas dataframe with missing values:\\n\" ,pd_df_with_missing_values)\n",
    "print()\n",
    "print(\"after dropping rows which contains a null value:\\n\",pd_df_with_missing_values.dropna(axis=0,how='any'))\n",
    "print()\n",
    "print(\"after dropping rows which contains only null values:\\n\",pd_df_with_missing_values.dropna(axis=0,how='all'))\n",
    "print()"
   ]
  },
  {
   "cell_type": "code",
   "execution_count": 34,
   "metadata": {},
   "outputs": [
    {
     "name": "stdout",
     "output_type": "stream",
     "text": [
      "pandas dataframe with missing values:\n",
      "    index    0    1    2    3   4\n",
      "0      0  1.0  2.0  NaN  1.0 NaN\n",
      "1      1  4.0  NaN  5.0  2.0 NaN\n",
      "2      2  4.0  6.0  8.0  3.0 NaN\n",
      "3      3  1.0  5.0  NaN  4.0 NaN\n",
      "4      4  NaN  NaN  NaN  5.0 NaN\n",
      "5      0  NaN  NaN  NaN  NaN NaN\n",
      "\n",
      "after dropping rows which contains a null value:\n",
      " Empty DataFrame\n",
      "Columns: [index, 0, 1, 2, 3, 4]\n",
      "Index: []\n",
      "\n",
      "after dropping rows which contains only null values:\n",
      "    index    0    1    2    3   4\n",
      "0      0  1.0  2.0  NaN  1.0 NaN\n",
      "1      1  4.0  NaN  5.0  2.0 NaN\n",
      "2      2  4.0  6.0  8.0  3.0 NaN\n",
      "3      3  1.0  5.0  NaN  4.0 NaN\n",
      "4      4  NaN  NaN  NaN  5.0 NaN\n",
      "5      0  NaN  NaN  NaN  NaN NaN\n",
      "\n"
     ]
    }
   ],
   "source": [
    "# adding a row with all nan values\n",
    "pd_df_with_missing_values = pd_df_with_missing_values.append([[np.NaN]*5]).reset_index()\n",
    "\n",
    "print(\"pandas dataframe with missing values:\\n\" ,pd_df_with_missing_values)\n",
    "print()\n",
    "print(\"after dropping rows which contains a null value:\\n\",pd_df_with_missing_values.dropna(axis=0,how='any'))\n",
    "print()\n",
    "print(\"after dropping rows which contains only null values:\\n\",pd_df_with_missing_values.dropna(axis=0,how='all'))\n",
    "print()"
   ]
  },
  {
   "cell_type": "markdown",
   "metadata": {},
   "source": [
    "similarly the same operations can be done on columns by setting axis parameter to 1 or 'columns'"
   ]
  },
  {
   "cell_type": "code",
   "execution_count": 35,
   "metadata": {},
   "outputs": [
    {
     "name": "stdout",
     "output_type": "stream",
     "text": [
      "pandas dataframe with missing values:\n",
      "    index    0    1    2    3   4\n",
      "0      0  1.0  2.0  NaN  1.0 NaN\n",
      "1      1  4.0  NaN  5.0  2.0 NaN\n",
      "2      2  4.0  6.0  8.0  3.0 NaN\n",
      "3      3  1.0  5.0  NaN  4.0 NaN\n",
      "4      4  NaN  NaN  NaN  5.0 NaN\n",
      "5      0  NaN  NaN  NaN  NaN NaN\n",
      "\n",
      "after dropping rows not having atleast no.of non null values specified by thresh param: \n",
      "    index    0    1    2    3   4\n",
      "0      0  1.0  2.0  NaN  1.0 NaN\n",
      "1      1  4.0  NaN  5.0  2.0 NaN\n",
      "2      2  4.0  6.0  8.0  3.0 NaN\n",
      "3      3  1.0  5.0  NaN  4.0 NaN\n"
     ]
    }
   ],
   "source": [
    "#using thresh parameter to specify the minimum number of non null values in a row for a row to not get dropped\n",
    "\n",
    "print(\"pandas dataframe with missing values:\\n\" ,pd_df_with_missing_values)\n",
    "print()\n",
    "\n",
    "print(\"after dropping rows not having atleast no.of non null values specified by thresh param: \\n\",pd_df_with_missing_values.dropna(thresh=3))"
   ]
  },
  {
   "cell_type": "code",
   "execution_count": 36,
   "metadata": {},
   "outputs": [
    {
     "name": "stdout",
     "output_type": "stream",
     "text": [
      "<class 'pandas.core.frame.DataFrame'>\n",
      "RangeIndex: 6 entries, 0 to 5\n",
      "Data columns (total 6 columns):\n",
      " #   Column  Non-Null Count  Dtype  \n",
      "---  ------  --------------  -----  \n",
      " 0   index   6 non-null      int64  \n",
      " 1   0       4 non-null      float64\n",
      " 2   1       3 non-null      float64\n",
      " 3   2       2 non-null      float64\n",
      " 4   3       5 non-null      float64\n",
      " 5   4       0 non-null      float64\n",
      "dtypes: float64(5), int64(1)\n",
      "memory usage: 416.0 bytes\n"
     ]
    }
   ],
   "source": [
    "#using info method on pandas dataframe to check number of non-null value in each columns\n",
    "pd_df_with_missing_values.info()"
   ]
  },
  {
   "cell_type": "code",
   "execution_count": null,
   "metadata": {},
   "outputs": [],
   "source": []
  },
  {
   "cell_type": "markdown",
   "metadata": {},
   "source": [
    "## Filling missing/null values"
   ]
  },
  {
   "cell_type": "code",
   "execution_count": 39,
   "metadata": {},
   "outputs": [
    {
     "name": "stdout",
     "output_type": "stream",
     "text": [
      "pandas series with missing values is : \n",
      " 0    1.0\n",
      "1    2.0\n",
      "2    3.0\n",
      "3    4.0\n",
      "4    NaN\n",
      "5    NaN\n",
      "dtype: float64\n"
     ]
    }
   ],
   "source": [
    "pd_series = pd.Series([1,2,3,4,np.NaN,None])\n",
    "print(\"pandas series with missing values is : \\n\",pd_series)"
   ]
  },
  {
   "cell_type": "code",
   "execution_count": 40,
   "metadata": {},
   "outputs": [
    {
     "data": {
      "text/plain": [
       "0    1.0\n",
       "1    2.0\n",
       "2    3.0\n",
       "3    4.0\n",
       "4    0.0\n",
       "5    0.0\n",
       "dtype: float64"
      ]
     },
     "execution_count": 40,
     "metadata": {},
     "output_type": "execute_result"
    }
   ],
   "source": [
    "#lets fill the missing values with 0.\n",
    "pd_series.fillna(0)"
   ]
  },
  {
   "cell_type": "code",
   "execution_count": 78,
   "metadata": {},
   "outputs": [
    {
     "data": {
      "text/plain": [
       "0    1.0\n",
       "1    2.0\n",
       "2    3.0\n",
       "3    4.0\n",
       "4    3.0\n",
       "5    3.0\n",
       "6    5.0\n",
       "dtype: float64"
      ]
     },
     "execution_count": 78,
     "metadata": {},
     "output_type": "execute_result"
    }
   ],
   "source": [
    "#lets fill the missing values with some value.\n",
    "pd_series.fillna(value=3)"
   ]
  },
  {
   "cell_type": "code",
   "execution_count": 49,
   "metadata": {},
   "outputs": [
    {
     "data": {
      "text/plain": [
       "0    1.0\n",
       "1    2.0\n",
       "2    3.0\n",
       "3    4.0\n",
       "4    4.0\n",
       "5    4.0\n",
       "dtype: float64"
      ]
     },
     "execution_count": 49,
     "metadata": {},
     "output_type": "execute_result"
    }
   ],
   "source": [
    "#filling using forward fill. This will be useful while hadnling time series data\n",
    "pd_series.fillna(method=\"ffill\")"
   ]
  },
  {
   "cell_type": "code",
   "execution_count": 51,
   "metadata": {},
   "outputs": [
    {
     "data": {
      "text/plain": [
       "0    1.0\n",
       "1    2.0\n",
       "2    3.0\n",
       "3    4.0\n",
       "4    NaN\n",
       "5    NaN\n",
       "dtype: float64"
      ]
     },
     "execution_count": 51,
     "metadata": {},
     "output_type": "execute_result"
    }
   ],
   "source": [
    "#filling using backward fill. As there are no elements in series ahead of NaN values . they won't get filled.\n",
    "pd_series.fillna(method=\"bfill\")"
   ]
  },
  {
   "cell_type": "code",
   "execution_count": 81,
   "metadata": {},
   "outputs": [
    {
     "ename": "ValueError",
     "evalue": "Cannot specify both 'value' and 'method'.",
     "output_type": "error",
     "traceback": [
      "\u001b[0;31m---------------------------------------------------------------------------\u001b[0m",
      "\u001b[0;31mValueError\u001b[0m                                Traceback (most recent call last)",
      "\u001b[0;32m<ipython-input-81-8729a591b0d8>\u001b[0m in \u001b[0;36m<module>\u001b[0;34m\u001b[0m\n\u001b[1;32m      1\u001b[0m \u001b[0;31m# trying to fill values using both value and method will rise a ValueError\u001b[0m\u001b[0;34m\u001b[0m\u001b[0;34m\u001b[0m\u001b[0;34m\u001b[0m\u001b[0m\n\u001b[0;32m----> 2\u001b[0;31m \u001b[0mpd_series\u001b[0m\u001b[0;34m.\u001b[0m\u001b[0mfillna\u001b[0m\u001b[0;34m(\u001b[0m\u001b[0mvalue\u001b[0m\u001b[0;34m=\u001b[0m\u001b[0;36m3\u001b[0m\u001b[0;34m,\u001b[0m\u001b[0mmethod\u001b[0m\u001b[0;34m=\u001b[0m\u001b[0;34m'bfill'\u001b[0m\u001b[0;34m)\u001b[0m\u001b[0;34m\u001b[0m\u001b[0;34m\u001b[0m\u001b[0m\n\u001b[0m",
      "\u001b[0;32m~/opt/anaconda3/envs/ml_learning/lib/python3.8/site-packages/pandas/core/series.py\u001b[0m in \u001b[0;36mfillna\u001b[0;34m(self, value, method, axis, inplace, limit, downcast)\u001b[0m\n\u001b[1;32m   4151\u001b[0m         \u001b[0mdowncast\u001b[0m\u001b[0;34m=\u001b[0m\u001b[0;32mNone\u001b[0m\u001b[0;34m,\u001b[0m\u001b[0;34m\u001b[0m\u001b[0;34m\u001b[0m\u001b[0m\n\u001b[1;32m   4152\u001b[0m     ) -> Optional[\"Series\"]:\n\u001b[0;32m-> 4153\u001b[0;31m         return super().fillna(\n\u001b[0m\u001b[1;32m   4154\u001b[0m             \u001b[0mvalue\u001b[0m\u001b[0;34m=\u001b[0m\u001b[0mvalue\u001b[0m\u001b[0;34m,\u001b[0m\u001b[0;34m\u001b[0m\u001b[0;34m\u001b[0m\u001b[0m\n\u001b[1;32m   4155\u001b[0m             \u001b[0mmethod\u001b[0m\u001b[0;34m=\u001b[0m\u001b[0mmethod\u001b[0m\u001b[0;34m,\u001b[0m\u001b[0;34m\u001b[0m\u001b[0;34m\u001b[0m\u001b[0m\n",
      "\u001b[0;32m~/opt/anaconda3/envs/ml_learning/lib/python3.8/site-packages/pandas/core/generic.py\u001b[0m in \u001b[0;36mfillna\u001b[0;34m(self, value, method, axis, inplace, limit, downcast)\u001b[0m\n\u001b[1;32m   6165\u001b[0m         \"\"\"\n\u001b[1;32m   6166\u001b[0m         \u001b[0minplace\u001b[0m \u001b[0;34m=\u001b[0m \u001b[0mvalidate_bool_kwarg\u001b[0m\u001b[0;34m(\u001b[0m\u001b[0minplace\u001b[0m\u001b[0;34m,\u001b[0m \u001b[0;34m\"inplace\"\u001b[0m\u001b[0;34m)\u001b[0m\u001b[0;34m\u001b[0m\u001b[0;34m\u001b[0m\u001b[0m\n\u001b[0;32m-> 6167\u001b[0;31m         \u001b[0mvalue\u001b[0m\u001b[0;34m,\u001b[0m \u001b[0mmethod\u001b[0m \u001b[0;34m=\u001b[0m \u001b[0mvalidate_fillna_kwargs\u001b[0m\u001b[0;34m(\u001b[0m\u001b[0mvalue\u001b[0m\u001b[0;34m,\u001b[0m \u001b[0mmethod\u001b[0m\u001b[0;34m)\u001b[0m\u001b[0;34m\u001b[0m\u001b[0;34m\u001b[0m\u001b[0m\n\u001b[0m\u001b[1;32m   6168\u001b[0m \u001b[0;34m\u001b[0m\u001b[0m\n\u001b[1;32m   6169\u001b[0m         \u001b[0mself\u001b[0m\u001b[0;34m.\u001b[0m\u001b[0m_consolidate_inplace\u001b[0m\u001b[0;34m(\u001b[0m\u001b[0;34m)\u001b[0m\u001b[0;34m\u001b[0m\u001b[0;34m\u001b[0m\u001b[0m\n",
      "\u001b[0;32m~/opt/anaconda3/envs/ml_learning/lib/python3.8/site-packages/pandas/util/_validators.py\u001b[0m in \u001b[0;36mvalidate_fillna_kwargs\u001b[0;34m(value, method, validate_scalar_dict_value)\u001b[0m\n\u001b[1;32m    342\u001b[0m \u001b[0;34m\u001b[0m\u001b[0m\n\u001b[1;32m    343\u001b[0m     \u001b[0;32melif\u001b[0m \u001b[0mvalue\u001b[0m \u001b[0;32mis\u001b[0m \u001b[0;32mnot\u001b[0m \u001b[0;32mNone\u001b[0m \u001b[0;32mand\u001b[0m \u001b[0mmethod\u001b[0m \u001b[0;32mis\u001b[0m \u001b[0;32mnot\u001b[0m \u001b[0;32mNone\u001b[0m\u001b[0;34m:\u001b[0m\u001b[0;34m\u001b[0m\u001b[0;34m\u001b[0m\u001b[0m\n\u001b[0;32m--> 344\u001b[0;31m         \u001b[0;32mraise\u001b[0m \u001b[0mValueError\u001b[0m\u001b[0;34m(\u001b[0m\u001b[0;34m\"Cannot specify both 'value' and 'method'.\"\u001b[0m\u001b[0;34m)\u001b[0m\u001b[0;34m\u001b[0m\u001b[0;34m\u001b[0m\u001b[0m\n\u001b[0m\u001b[1;32m    345\u001b[0m \u001b[0;34m\u001b[0m\u001b[0m\n\u001b[1;32m    346\u001b[0m     \u001b[0;32mreturn\u001b[0m \u001b[0mvalue\u001b[0m\u001b[0;34m,\u001b[0m \u001b[0mmethod\u001b[0m\u001b[0;34m\u001b[0m\u001b[0;34m\u001b[0m\u001b[0m\n",
      "\u001b[0;31mValueError\u001b[0m: Cannot specify both 'value' and 'method'."
     ]
    }
   ],
   "source": [
    "# trying to fill values using both value and method will rise a ValueError\n",
    "pd_series.fillna(value=3,method='bfill')"
   ]
  },
  {
   "cell_type": "code",
   "execution_count": 82,
   "metadata": {},
   "outputs": [],
   "source": [
    "#let's add another elemt to series\n",
    "pd_series = pd_series.append(pd.Series([5]),ignore_index=True)"
   ]
  },
  {
   "cell_type": "code",
   "execution_count": 83,
   "metadata": {},
   "outputs": [
    {
     "data": {
      "text/plain": [
       "0    1.0\n",
       "1    2.0\n",
       "2    3.0\n",
       "3    4.0\n",
       "4    5.0\n",
       "5    5.0\n",
       "6    5.0\n",
       "7    5.0\n",
       "dtype: float64"
      ]
     },
     "execution_count": 83,
     "metadata": {},
     "output_type": "execute_result"
    }
   ],
   "source": [
    "#backward fill once again. This time missing values gets filled.\n",
    "pd_series.fillna(method=\"bfill\")"
   ]
  },
  {
   "cell_type": "code",
   "execution_count": 84,
   "metadata": {},
   "outputs": [
    {
     "name": "stdout",
     "output_type": "stream",
     "text": [
      "pandas dataframe is:\n",
      "    0    1    2\n",
      "0  1  2.0  NaN\n",
      "1  2  3.0  NaN\n",
      "2  5  NaN  3.0\n"
     ]
    }
   ],
   "source": [
    "df = pd.DataFrame([[1,2,np.NaN],[2,3,np.NaN],[5,np.NaN,3]])\n",
    "print('pandas dataframe is:\\n',df)"
   ]
  },
  {
   "cell_type": "code",
   "execution_count": 85,
   "metadata": {},
   "outputs": [
    {
     "data": {
      "text/html": [
       "<div>\n",
       "<style scoped>\n",
       "    .dataframe tbody tr th:only-of-type {\n",
       "        vertical-align: middle;\n",
       "    }\n",
       "\n",
       "    .dataframe tbody tr th {\n",
       "        vertical-align: top;\n",
       "    }\n",
       "\n",
       "    .dataframe thead th {\n",
       "        text-align: right;\n",
       "    }\n",
       "</style>\n",
       "<table border=\"1\" class=\"dataframe\">\n",
       "  <thead>\n",
       "    <tr style=\"text-align: right;\">\n",
       "      <th></th>\n",
       "      <th>0</th>\n",
       "      <th>1</th>\n",
       "      <th>2</th>\n",
       "    </tr>\n",
       "  </thead>\n",
       "  <tbody>\n",
       "    <tr>\n",
       "      <th>0</th>\n",
       "      <td>1</td>\n",
       "      <td>2.0</td>\n",
       "      <td>0.0</td>\n",
       "    </tr>\n",
       "    <tr>\n",
       "      <th>1</th>\n",
       "      <td>2</td>\n",
       "      <td>3.0</td>\n",
       "      <td>0.0</td>\n",
       "    </tr>\n",
       "    <tr>\n",
       "      <th>2</th>\n",
       "      <td>5</td>\n",
       "      <td>0.0</td>\n",
       "      <td>3.0</td>\n",
       "    </tr>\n",
       "  </tbody>\n",
       "</table>\n",
       "</div>"
      ],
      "text/plain": [
       "   0    1    2\n",
       "0  1  2.0  0.0\n",
       "1  2  3.0  0.0\n",
       "2  5  0.0  3.0"
      ]
     },
     "execution_count": 85,
     "metadata": {},
     "output_type": "execute_result"
    }
   ],
   "source": [
    "#fill all missing values with 0\n",
    "df.fillna(0)"
   ]
  },
  {
   "cell_type": "code",
   "execution_count": 86,
   "metadata": {},
   "outputs": [
    {
     "data": {
      "text/html": [
       "<div>\n",
       "<style scoped>\n",
       "    .dataframe tbody tr th:only-of-type {\n",
       "        vertical-align: middle;\n",
       "    }\n",
       "\n",
       "    .dataframe tbody tr th {\n",
       "        vertical-align: top;\n",
       "    }\n",
       "\n",
       "    .dataframe thead th {\n",
       "        text-align: right;\n",
       "    }\n",
       "</style>\n",
       "<table border=\"1\" class=\"dataframe\">\n",
       "  <thead>\n",
       "    <tr style=\"text-align: right;\">\n",
       "      <th></th>\n",
       "      <th>0</th>\n",
       "      <th>1</th>\n",
       "      <th>2</th>\n",
       "    </tr>\n",
       "  </thead>\n",
       "  <tbody>\n",
       "    <tr>\n",
       "      <th>0</th>\n",
       "      <td>1</td>\n",
       "      <td>2.0</td>\n",
       "      <td>3.0</td>\n",
       "    </tr>\n",
       "    <tr>\n",
       "      <th>1</th>\n",
       "      <td>2</td>\n",
       "      <td>3.0</td>\n",
       "      <td>3.0</td>\n",
       "    </tr>\n",
       "    <tr>\n",
       "      <th>2</th>\n",
       "      <td>5</td>\n",
       "      <td>3.0</td>\n",
       "      <td>3.0</td>\n",
       "    </tr>\n",
       "  </tbody>\n",
       "</table>\n",
       "</div>"
      ],
      "text/plain": [
       "   0    1    2\n",
       "0  1  2.0  3.0\n",
       "1  2  3.0  3.0\n",
       "2  5  3.0  3.0"
      ]
     },
     "execution_count": 86,
     "metadata": {},
     "output_type": "execute_result"
    }
   ],
   "source": [
    "#fill all nulls with some value\n",
    "df.fillna(value=3)"
   ]
  },
  {
   "cell_type": "code",
   "execution_count": 87,
   "metadata": {},
   "outputs": [],
   "source": [
    "#fill all null values using forward fill"
   ]
  },
  {
   "cell_type": "code",
   "execution_count": 88,
   "metadata": {},
   "outputs": [
    {
     "data": {
      "text/html": [
       "<div>\n",
       "<style scoped>\n",
       "    .dataframe tbody tr th:only-of-type {\n",
       "        vertical-align: middle;\n",
       "    }\n",
       "\n",
       "    .dataframe tbody tr th {\n",
       "        vertical-align: top;\n",
       "    }\n",
       "\n",
       "    .dataframe thead th {\n",
       "        text-align: right;\n",
       "    }\n",
       "</style>\n",
       "<table border=\"1\" class=\"dataframe\">\n",
       "  <thead>\n",
       "    <tr style=\"text-align: right;\">\n",
       "      <th></th>\n",
       "      <th>0</th>\n",
       "      <th>1</th>\n",
       "      <th>2</th>\n",
       "    </tr>\n",
       "  </thead>\n",
       "  <tbody>\n",
       "    <tr>\n",
       "      <th>0</th>\n",
       "      <td>1</td>\n",
       "      <td>2.0</td>\n",
       "      <td>NaN</td>\n",
       "    </tr>\n",
       "    <tr>\n",
       "      <th>1</th>\n",
       "      <td>2</td>\n",
       "      <td>3.0</td>\n",
       "      <td>NaN</td>\n",
       "    </tr>\n",
       "    <tr>\n",
       "      <th>2</th>\n",
       "      <td>5</td>\n",
       "      <td>3.0</td>\n",
       "      <td>3.0</td>\n",
       "    </tr>\n",
       "  </tbody>\n",
       "</table>\n",
       "</div>"
      ],
      "text/plain": [
       "   0    1    2\n",
       "0  1  2.0  NaN\n",
       "1  2  3.0  NaN\n",
       "2  5  3.0  3.0"
      ]
     },
     "execution_count": 88,
     "metadata": {},
     "output_type": "execute_result"
    }
   ],
   "source": [
    "#fill missing vlaues using forward fill\n",
    "df.fillna(method='ffill')"
   ]
  },
  {
   "cell_type": "code",
   "execution_count": 90,
   "metadata": {},
   "outputs": [
    {
     "data": {
      "text/html": [
       "<div>\n",
       "<style scoped>\n",
       "    .dataframe tbody tr th:only-of-type {\n",
       "        vertical-align: middle;\n",
       "    }\n",
       "\n",
       "    .dataframe tbody tr th {\n",
       "        vertical-align: top;\n",
       "    }\n",
       "\n",
       "    .dataframe thead th {\n",
       "        text-align: right;\n",
       "    }\n",
       "</style>\n",
       "<table border=\"1\" class=\"dataframe\">\n",
       "  <thead>\n",
       "    <tr style=\"text-align: right;\">\n",
       "      <th></th>\n",
       "      <th>0</th>\n",
       "      <th>1</th>\n",
       "      <th>2</th>\n",
       "    </tr>\n",
       "  </thead>\n",
       "  <tbody>\n",
       "    <tr>\n",
       "      <th>0</th>\n",
       "      <td>1</td>\n",
       "      <td>2.0</td>\n",
       "      <td>3.0</td>\n",
       "    </tr>\n",
       "    <tr>\n",
       "      <th>1</th>\n",
       "      <td>2</td>\n",
       "      <td>3.0</td>\n",
       "      <td>3.0</td>\n",
       "    </tr>\n",
       "    <tr>\n",
       "      <th>2</th>\n",
       "      <td>5</td>\n",
       "      <td>NaN</td>\n",
       "      <td>3.0</td>\n",
       "    </tr>\n",
       "  </tbody>\n",
       "</table>\n",
       "</div>"
      ],
      "text/plain": [
       "   0    1    2\n",
       "0  1  2.0  3.0\n",
       "1  2  3.0  3.0\n",
       "2  5  NaN  3.0"
      ]
     },
     "execution_count": 90,
     "metadata": {},
     "output_type": "execute_result"
    }
   ],
   "source": [
    "#fill missing values using backward fill\n",
    "df.fillna(method='bfill')"
   ]
  },
  {
   "cell_type": "code",
   "execution_count": 92,
   "metadata": {},
   "outputs": [
    {
     "ename": "ValueError",
     "evalue": "Cannot specify both 'value' and 'method'.",
     "output_type": "error",
     "traceback": [
      "\u001b[0;31m---------------------------------------------------------------------------\u001b[0m",
      "\u001b[0;31mValueError\u001b[0m                                Traceback (most recent call last)",
      "\u001b[0;32m<ipython-input-92-92499d046c68>\u001b[0m in \u001b[0;36m<module>\u001b[0;34m\u001b[0m\n\u001b[1;32m      1\u001b[0m \u001b[0;31m#fill missing values using both value and method parameters. It will throw a ValueError\u001b[0m\u001b[0;34m\u001b[0m\u001b[0;34m\u001b[0m\u001b[0;34m\u001b[0m\u001b[0m\n\u001b[0;32m----> 2\u001b[0;31m \u001b[0mdf\u001b[0m\u001b[0;34m.\u001b[0m\u001b[0mfillna\u001b[0m\u001b[0;34m(\u001b[0m\u001b[0mvalue\u001b[0m\u001b[0;34m=\u001b[0m\u001b[0;36m2\u001b[0m\u001b[0;34m,\u001b[0m\u001b[0mmethod\u001b[0m\u001b[0;34m=\u001b[0m\u001b[0;34m'ffill'\u001b[0m\u001b[0;34m)\u001b[0m\u001b[0;34m\u001b[0m\u001b[0;34m\u001b[0m\u001b[0m\n\u001b[0m",
      "\u001b[0;32m~/opt/anaconda3/envs/ml_learning/lib/python3.8/site-packages/pandas/core/frame.py\u001b[0m in \u001b[0;36mfillna\u001b[0;34m(self, value, method, axis, inplace, limit, downcast)\u001b[0m\n\u001b[1;32m   4145\u001b[0m         \u001b[0mdowncast\u001b[0m\u001b[0;34m=\u001b[0m\u001b[0;32mNone\u001b[0m\u001b[0;34m,\u001b[0m\u001b[0;34m\u001b[0m\u001b[0;34m\u001b[0m\u001b[0m\n\u001b[1;32m   4146\u001b[0m     ) -> Optional[\"DataFrame\"]:\n\u001b[0;32m-> 4147\u001b[0;31m         return super().fillna(\n\u001b[0m\u001b[1;32m   4148\u001b[0m             \u001b[0mvalue\u001b[0m\u001b[0;34m=\u001b[0m\u001b[0mvalue\u001b[0m\u001b[0;34m,\u001b[0m\u001b[0;34m\u001b[0m\u001b[0;34m\u001b[0m\u001b[0m\n\u001b[1;32m   4149\u001b[0m             \u001b[0mmethod\u001b[0m\u001b[0;34m=\u001b[0m\u001b[0mmethod\u001b[0m\u001b[0;34m,\u001b[0m\u001b[0;34m\u001b[0m\u001b[0;34m\u001b[0m\u001b[0m\n",
      "\u001b[0;32m~/opt/anaconda3/envs/ml_learning/lib/python3.8/site-packages/pandas/core/generic.py\u001b[0m in \u001b[0;36mfillna\u001b[0;34m(self, value, method, axis, inplace, limit, downcast)\u001b[0m\n\u001b[1;32m   6165\u001b[0m         \"\"\"\n\u001b[1;32m   6166\u001b[0m         \u001b[0minplace\u001b[0m \u001b[0;34m=\u001b[0m \u001b[0mvalidate_bool_kwarg\u001b[0m\u001b[0;34m(\u001b[0m\u001b[0minplace\u001b[0m\u001b[0;34m,\u001b[0m \u001b[0;34m\"inplace\"\u001b[0m\u001b[0;34m)\u001b[0m\u001b[0;34m\u001b[0m\u001b[0;34m\u001b[0m\u001b[0m\n\u001b[0;32m-> 6167\u001b[0;31m         \u001b[0mvalue\u001b[0m\u001b[0;34m,\u001b[0m \u001b[0mmethod\u001b[0m \u001b[0;34m=\u001b[0m \u001b[0mvalidate_fillna_kwargs\u001b[0m\u001b[0;34m(\u001b[0m\u001b[0mvalue\u001b[0m\u001b[0;34m,\u001b[0m \u001b[0mmethod\u001b[0m\u001b[0;34m)\u001b[0m\u001b[0;34m\u001b[0m\u001b[0;34m\u001b[0m\u001b[0m\n\u001b[0m\u001b[1;32m   6168\u001b[0m \u001b[0;34m\u001b[0m\u001b[0m\n\u001b[1;32m   6169\u001b[0m         \u001b[0mself\u001b[0m\u001b[0;34m.\u001b[0m\u001b[0m_consolidate_inplace\u001b[0m\u001b[0;34m(\u001b[0m\u001b[0;34m)\u001b[0m\u001b[0;34m\u001b[0m\u001b[0;34m\u001b[0m\u001b[0m\n",
      "\u001b[0;32m~/opt/anaconda3/envs/ml_learning/lib/python3.8/site-packages/pandas/util/_validators.py\u001b[0m in \u001b[0;36mvalidate_fillna_kwargs\u001b[0;34m(value, method, validate_scalar_dict_value)\u001b[0m\n\u001b[1;32m    342\u001b[0m \u001b[0;34m\u001b[0m\u001b[0m\n\u001b[1;32m    343\u001b[0m     \u001b[0;32melif\u001b[0m \u001b[0mvalue\u001b[0m \u001b[0;32mis\u001b[0m \u001b[0;32mnot\u001b[0m \u001b[0;32mNone\u001b[0m \u001b[0;32mand\u001b[0m \u001b[0mmethod\u001b[0m \u001b[0;32mis\u001b[0m \u001b[0;32mnot\u001b[0m \u001b[0;32mNone\u001b[0m\u001b[0;34m:\u001b[0m\u001b[0;34m\u001b[0m\u001b[0;34m\u001b[0m\u001b[0m\n\u001b[0;32m--> 344\u001b[0;31m         \u001b[0;32mraise\u001b[0m \u001b[0mValueError\u001b[0m\u001b[0;34m(\u001b[0m\u001b[0;34m\"Cannot specify both 'value' and 'method'.\"\u001b[0m\u001b[0;34m)\u001b[0m\u001b[0;34m\u001b[0m\u001b[0;34m\u001b[0m\u001b[0m\n\u001b[0m\u001b[1;32m    345\u001b[0m \u001b[0;34m\u001b[0m\u001b[0m\n\u001b[1;32m    346\u001b[0m     \u001b[0;32mreturn\u001b[0m \u001b[0mvalue\u001b[0m\u001b[0;34m,\u001b[0m \u001b[0mmethod\u001b[0m\u001b[0;34m\u001b[0m\u001b[0;34m\u001b[0m\u001b[0m\n",
      "\u001b[0;31mValueError\u001b[0m: Cannot specify both 'value' and 'method'."
     ]
    }
   ],
   "source": [
    "#fill missing values using both value and method parameters. It will throw a ValueError\n",
    "df.fillna(value=2,method='ffill')"
   ]
  },
  {
   "cell_type": "code",
   "execution_count": 100,
   "metadata": {},
   "outputs": [
    {
     "data": {
      "text/html": [
       "<div>\n",
       "<style scoped>\n",
       "    .dataframe tbody tr th:only-of-type {\n",
       "        vertical-align: middle;\n",
       "    }\n",
       "\n",
       "    .dataframe tbody tr th {\n",
       "        vertical-align: top;\n",
       "    }\n",
       "\n",
       "    .dataframe thead th {\n",
       "        text-align: right;\n",
       "    }\n",
       "</style>\n",
       "<table border=\"1\" class=\"dataframe\">\n",
       "  <thead>\n",
       "    <tr style=\"text-align: right;\">\n",
       "      <th></th>\n",
       "      <th>0</th>\n",
       "      <th>1</th>\n",
       "      <th>2</th>\n",
       "    </tr>\n",
       "  </thead>\n",
       "  <tbody>\n",
       "    <tr>\n",
       "      <th>0</th>\n",
       "      <td>1</td>\n",
       "      <td>2.0</td>\n",
       "      <td>2.0</td>\n",
       "    </tr>\n",
       "    <tr>\n",
       "      <th>1</th>\n",
       "      <td>2</td>\n",
       "      <td>3.0</td>\n",
       "      <td>2.0</td>\n",
       "    </tr>\n",
       "    <tr>\n",
       "      <th>2</th>\n",
       "      <td>5</td>\n",
       "      <td>2.0</td>\n",
       "      <td>3.0</td>\n",
       "    </tr>\n",
       "  </tbody>\n",
       "</table>\n",
       "</div>"
      ],
      "text/plain": [
       "   0    1    2\n",
       "0  1  2.0  2.0\n",
       "1  2  3.0  2.0\n",
       "2  5  2.0  3.0"
      ]
     },
     "execution_count": 100,
     "metadata": {},
     "output_type": "execute_result"
    }
   ],
   "source": [
    "#fill all na values with a specific value along rows. This works same as filling a value withouit specifying axis param.\n",
    "df.fillna(value=2,axis=0)"
   ]
  },
  {
   "cell_type": "code",
   "execution_count": 99,
   "metadata": {},
   "outputs": [
    {
     "data": {
      "text/html": [
       "<div>\n",
       "<style scoped>\n",
       "    .dataframe tbody tr th:only-of-type {\n",
       "        vertical-align: middle;\n",
       "    }\n",
       "\n",
       "    .dataframe tbody tr th {\n",
       "        vertical-align: top;\n",
       "    }\n",
       "\n",
       "    .dataframe thead th {\n",
       "        text-align: right;\n",
       "    }\n",
       "</style>\n",
       "<table border=\"1\" class=\"dataframe\">\n",
       "  <thead>\n",
       "    <tr style=\"text-align: right;\">\n",
       "      <th></th>\n",
       "      <th>0</th>\n",
       "      <th>1</th>\n",
       "      <th>2</th>\n",
       "    </tr>\n",
       "  </thead>\n",
       "  <tbody>\n",
       "    <tr>\n",
       "      <th>0</th>\n",
       "      <td>1</td>\n",
       "      <td>2.0</td>\n",
       "      <td>3.0</td>\n",
       "    </tr>\n",
       "    <tr>\n",
       "      <th>1</th>\n",
       "      <td>2</td>\n",
       "      <td>3.0</td>\n",
       "      <td>3.0</td>\n",
       "    </tr>\n",
       "    <tr>\n",
       "      <th>2</th>\n",
       "      <td>5</td>\n",
       "      <td>3.0</td>\n",
       "      <td>3.0</td>\n",
       "    </tr>\n",
       "  </tbody>\n",
       "</table>\n",
       "</div>"
      ],
      "text/plain": [
       "   0    1    2\n",
       "0  1  2.0  3.0\n",
       "1  2  3.0  3.0\n",
       "2  5  3.0  3.0"
      ]
     },
     "execution_count": 99,
     "metadata": {},
     "output_type": "execute_result"
    }
   ],
   "source": [
    "# fill value along colums\n",
    "df.fillna(value=3,axis=1)"
   ]
  },
  {
   "cell_type": "code",
   "execution_count": 103,
   "metadata": {},
   "outputs": [
    {
     "data": {
      "text/html": [
       "<div>\n",
       "<style scoped>\n",
       "    .dataframe tbody tr th:only-of-type {\n",
       "        vertical-align: middle;\n",
       "    }\n",
       "\n",
       "    .dataframe tbody tr th {\n",
       "        vertical-align: top;\n",
       "    }\n",
       "\n",
       "    .dataframe thead th {\n",
       "        text-align: right;\n",
       "    }\n",
       "</style>\n",
       "<table border=\"1\" class=\"dataframe\">\n",
       "  <thead>\n",
       "    <tr style=\"text-align: right;\">\n",
       "      <th></th>\n",
       "      <th>0</th>\n",
       "      <th>1</th>\n",
       "      <th>2</th>\n",
       "    </tr>\n",
       "  </thead>\n",
       "  <tbody>\n",
       "    <tr>\n",
       "      <th>0</th>\n",
       "      <td>1.0</td>\n",
       "      <td>2.0</td>\n",
       "      <td>2.0</td>\n",
       "    </tr>\n",
       "    <tr>\n",
       "      <th>1</th>\n",
       "      <td>2.0</td>\n",
       "      <td>3.0</td>\n",
       "      <td>3.0</td>\n",
       "    </tr>\n",
       "    <tr>\n",
       "      <th>2</th>\n",
       "      <td>5.0</td>\n",
       "      <td>5.0</td>\n",
       "      <td>3.0</td>\n",
       "    </tr>\n",
       "  </tbody>\n",
       "</table>\n",
       "</div>"
      ],
      "text/plain": [
       "     0    1    2\n",
       "0  1.0  2.0  2.0\n",
       "1  2.0  3.0  3.0\n",
       "2  5.0  5.0  3.0"
      ]
     },
     "execution_count": 103,
     "metadata": {},
     "output_type": "execute_result"
    }
   ],
   "source": [
    "#fill using method and axis. forward filling using rows\n",
    "df.fillna(method='ffill',axis=0)"
   ]
  },
  {
   "cell_type": "code",
   "execution_count": 104,
   "metadata": {},
   "outputs": [
    {
     "data": {
      "text/html": [
       "<div>\n",
       "<style scoped>\n",
       "    .dataframe tbody tr th:only-of-type {\n",
       "        vertical-align: middle;\n",
       "    }\n",
       "\n",
       "    .dataframe tbody tr th {\n",
       "        vertical-align: top;\n",
       "    }\n",
       "\n",
       "    .dataframe thead th {\n",
       "        text-align: right;\n",
       "    }\n",
       "</style>\n",
       "<table border=\"1\" class=\"dataframe\">\n",
       "  <thead>\n",
       "    <tr style=\"text-align: right;\">\n",
       "      <th></th>\n",
       "      <th>0</th>\n",
       "      <th>1</th>\n",
       "      <th>2</th>\n",
       "    </tr>\n",
       "  </thead>\n",
       "  <tbody>\n",
       "    <tr>\n",
       "      <th>0</th>\n",
       "      <td>1.0</td>\n",
       "      <td>2.0</td>\n",
       "      <td>2.0</td>\n",
       "    </tr>\n",
       "    <tr>\n",
       "      <th>1</th>\n",
       "      <td>2.0</td>\n",
       "      <td>3.0</td>\n",
       "      <td>3.0</td>\n",
       "    </tr>\n",
       "    <tr>\n",
       "      <th>2</th>\n",
       "      <td>5.0</td>\n",
       "      <td>5.0</td>\n",
       "      <td>3.0</td>\n",
       "    </tr>\n",
       "  </tbody>\n",
       "</table>\n",
       "</div>"
      ],
      "text/plain": [
       "     0    1    2\n",
       "0  1.0  2.0  2.0\n",
       "1  2.0  3.0  3.0\n",
       "2  5.0  5.0  3.0"
      ]
     },
     "execution_count": 104,
     "metadata": {},
     "output_type": "execute_result"
    }
   ],
   "source": [
    "#fill using method and axis. forward filling using columns\n",
    "df.fillna(method='ffill',axis=1)"
   ]
  },
  {
   "cell_type": "code",
   "execution_count": 105,
   "metadata": {},
   "outputs": [
    {
     "data": {
      "text/html": [
       "<div>\n",
       "<style scoped>\n",
       "    .dataframe tbody tr th:only-of-type {\n",
       "        vertical-align: middle;\n",
       "    }\n",
       "\n",
       "    .dataframe tbody tr th {\n",
       "        vertical-align: top;\n",
       "    }\n",
       "\n",
       "    .dataframe thead th {\n",
       "        text-align: right;\n",
       "    }\n",
       "</style>\n",
       "<table border=\"1\" class=\"dataframe\">\n",
       "  <thead>\n",
       "    <tr style=\"text-align: right;\">\n",
       "      <th></th>\n",
       "      <th>0</th>\n",
       "      <th>1</th>\n",
       "      <th>2</th>\n",
       "    </tr>\n",
       "  </thead>\n",
       "  <tbody>\n",
       "    <tr>\n",
       "      <th>0</th>\n",
       "      <td>1</td>\n",
       "      <td>2.0</td>\n",
       "      <td>3.0</td>\n",
       "    </tr>\n",
       "    <tr>\n",
       "      <th>1</th>\n",
       "      <td>2</td>\n",
       "      <td>3.0</td>\n",
       "      <td>3.0</td>\n",
       "    </tr>\n",
       "    <tr>\n",
       "      <th>2</th>\n",
       "      <td>5</td>\n",
       "      <td>NaN</td>\n",
       "      <td>3.0</td>\n",
       "    </tr>\n",
       "  </tbody>\n",
       "</table>\n",
       "</div>"
      ],
      "text/plain": [
       "   0    1    2\n",
       "0  1  2.0  3.0\n",
       "1  2  3.0  3.0\n",
       "2  5  NaN  3.0"
      ]
     },
     "execution_count": 105,
     "metadata": {},
     "output_type": "execute_result"
    }
   ],
   "source": [
    "#fill using method and axis. backward filling using rows\n",
    "df.fillna(method='bfill',axis=0)"
   ]
  },
  {
   "cell_type": "code",
   "execution_count": 106,
   "metadata": {},
   "outputs": [
    {
     "data": {
      "text/html": [
       "<div>\n",
       "<style scoped>\n",
       "    .dataframe tbody tr th:only-of-type {\n",
       "        vertical-align: middle;\n",
       "    }\n",
       "\n",
       "    .dataframe tbody tr th {\n",
       "        vertical-align: top;\n",
       "    }\n",
       "\n",
       "    .dataframe thead th {\n",
       "        text-align: right;\n",
       "    }\n",
       "</style>\n",
       "<table border=\"1\" class=\"dataframe\">\n",
       "  <thead>\n",
       "    <tr style=\"text-align: right;\">\n",
       "      <th></th>\n",
       "      <th>0</th>\n",
       "      <th>1</th>\n",
       "      <th>2</th>\n",
       "    </tr>\n",
       "  </thead>\n",
       "  <tbody>\n",
       "    <tr>\n",
       "      <th>0</th>\n",
       "      <td>1.0</td>\n",
       "      <td>2.0</td>\n",
       "      <td>NaN</td>\n",
       "    </tr>\n",
       "    <tr>\n",
       "      <th>1</th>\n",
       "      <td>2.0</td>\n",
       "      <td>3.0</td>\n",
       "      <td>NaN</td>\n",
       "    </tr>\n",
       "    <tr>\n",
       "      <th>2</th>\n",
       "      <td>5.0</td>\n",
       "      <td>3.0</td>\n",
       "      <td>3.0</td>\n",
       "    </tr>\n",
       "  </tbody>\n",
       "</table>\n",
       "</div>"
      ],
      "text/plain": [
       "     0    1    2\n",
       "0  1.0  2.0  NaN\n",
       "1  2.0  3.0  NaN\n",
       "2  5.0  3.0  3.0"
      ]
     },
     "execution_count": 106,
     "metadata": {},
     "output_type": "execute_result"
    }
   ],
   "source": [
    "#fill using method and axis. backward filling using columns\n",
    "df.fillna(method='bfill')"
   ]
  },
  {
   "cell_type": "code",
   "execution_count": 152,
   "metadata": {},
   "outputs": [
    {
     "name": "stdout",
     "output_type": "stream",
     "text": [
      "pandas dataframe is:\n",
      "    0    1    2\n",
      "0  1  2.0  NaN\n",
      "1  2  3.0  NaN\n",
      "2  5  NaN  3.0\n",
      "\n",
      "mean along rows:\n",
      " 0    2.666667\n",
      "1    2.500000\n",
      "2    3.000000\n",
      "dtype: float64\n",
      "\n",
      "mean along rows:\n",
      " 0    2.666667\n",
      "1    2.500000\n",
      "2    3.000000\n",
      "dtype: float64\n",
      "\n",
      "mean along columns:\n",
      " 0    1.5\n",
      "1    2.5\n",
      "2    4.0\n",
      "dtype: float64\n"
     ]
    }
   ],
   "source": [
    "#let'try to fill with mean. First lets calculate mean\n",
    "print('pandas dataframe is:\\n',df)\n",
    "print()\n",
    "print('mean along rows:\\n',df.mean())\n",
    "print()\n",
    "print('mean along rows:\\n',df.mean(axis='rows')) # note that mean is calculated along the rows. not mean of a row.\n",
    "print()\n",
    "print('mean along columns:\\n',df.mean(axis='columns'))# note that mean is calculated along the columns. not mean of a column.\n"
   ]
  },
  {
   "cell_type": "code",
   "execution_count": 153,
   "metadata": {},
   "outputs": [
    {
     "name": "stdout",
     "output_type": "stream",
     "text": [
      "pandas dataframe is:\n",
      "    0    1    2\n",
      "0  1  2.0  NaN\n",
      "1  2  3.0  NaN\n",
      "2  5  NaN  3.0\n",
      "\n"
     ]
    },
    {
     "data": {
      "text/html": [
       "<div>\n",
       "<style scoped>\n",
       "    .dataframe tbody tr th:only-of-type {\n",
       "        vertical-align: middle;\n",
       "    }\n",
       "\n",
       "    .dataframe tbody tr th {\n",
       "        vertical-align: top;\n",
       "    }\n",
       "\n",
       "    .dataframe thead th {\n",
       "        text-align: right;\n",
       "    }\n",
       "</style>\n",
       "<table border=\"1\" class=\"dataframe\">\n",
       "  <thead>\n",
       "    <tr style=\"text-align: right;\">\n",
       "      <th></th>\n",
       "      <th>0</th>\n",
       "      <th>1</th>\n",
       "      <th>2</th>\n",
       "    </tr>\n",
       "  </thead>\n",
       "  <tbody>\n",
       "    <tr>\n",
       "      <th>0</th>\n",
       "      <td>1</td>\n",
       "      <td>2.0</td>\n",
       "      <td>4.0</td>\n",
       "    </tr>\n",
       "    <tr>\n",
       "      <th>1</th>\n",
       "      <td>2</td>\n",
       "      <td>3.0</td>\n",
       "      <td>4.0</td>\n",
       "    </tr>\n",
       "    <tr>\n",
       "      <th>2</th>\n",
       "      <td>5</td>\n",
       "      <td>3.0</td>\n",
       "      <td>3.0</td>\n",
       "    </tr>\n",
       "  </tbody>\n",
       "</table>\n",
       "</div>"
      ],
      "text/plain": [
       "   0    1    2\n",
       "0  1  2.0  4.0\n",
       "1  2  3.0  4.0\n",
       "2  5  3.0  3.0"
      ]
     },
     "execution_count": 153,
     "metadata": {},
     "output_type": "execute_result"
    }
   ],
   "source": [
    "# this will fill with mean of the respective rows\n",
    "\n",
    "print('pandas dataframe is:\\n',df)\n",
    "print()\n",
    "df.fillna(value = {0:2,1:3,2:4,3:5})"
   ]
  },
  {
   "cell_type": "code",
   "execution_count": 154,
   "metadata": {},
   "outputs": [
    {
     "data": {
      "text/plain": [
       "pandas.core.series.Series"
      ]
     },
     "execution_count": 154,
     "metadata": {},
     "output_type": "execute_result"
    }
   ],
   "source": [
    "#lets check what type the mean method returns\n",
    "type(df.mean())"
   ]
  },
  {
   "cell_type": "code",
   "execution_count": 155,
   "metadata": {},
   "outputs": [
    {
     "name": "stdout",
     "output_type": "stream",
     "text": [
      "pandas dataframe is:\n",
      "    0    1    2\n",
      "0  1  2.0  NaN\n",
      "1  2  3.0  NaN\n",
      "2  5  NaN  3.0\n",
      "\n"
     ]
    },
    {
     "data": {
      "text/html": [
       "<div>\n",
       "<style scoped>\n",
       "    .dataframe tbody tr th:only-of-type {\n",
       "        vertical-align: middle;\n",
       "    }\n",
       "\n",
       "    .dataframe tbody tr th {\n",
       "        vertical-align: top;\n",
       "    }\n",
       "\n",
       "    .dataframe thead th {\n",
       "        text-align: right;\n",
       "    }\n",
       "</style>\n",
       "<table border=\"1\" class=\"dataframe\">\n",
       "  <thead>\n",
       "    <tr style=\"text-align: right;\">\n",
       "      <th></th>\n",
       "      <th>0</th>\n",
       "      <th>1</th>\n",
       "      <th>2</th>\n",
       "    </tr>\n",
       "  </thead>\n",
       "  <tbody>\n",
       "    <tr>\n",
       "      <th>0</th>\n",
       "      <td>1</td>\n",
       "      <td>2.0</td>\n",
       "      <td>3.0</td>\n",
       "    </tr>\n",
       "    <tr>\n",
       "      <th>1</th>\n",
       "      <td>2</td>\n",
       "      <td>3.0</td>\n",
       "      <td>3.0</td>\n",
       "    </tr>\n",
       "    <tr>\n",
       "      <th>2</th>\n",
       "      <td>5</td>\n",
       "      <td>2.0</td>\n",
       "      <td>3.0</td>\n",
       "    </tr>\n",
       "  </tbody>\n",
       "</table>\n",
       "</div>"
      ],
      "text/plain": [
       "   0    1    2\n",
       "0  1  2.0  3.0\n",
       "1  2  3.0  3.0\n",
       "2  5  2.0  3.0"
      ]
     },
     "execution_count": 155,
     "metadata": {},
     "output_type": "execute_result"
    }
   ],
   "source": [
    "# lets fill null values with a series. pandas accepts a dictionary or a pandas series for the value parameter.\n",
    "# it alwasy fills column by column\n",
    "\n",
    "print('pandas dataframe is:\\n',df)\n",
    "print()\n",
    "df.fillna(value = pd.Series([1,2,3]))"
   ]
  },
  {
   "cell_type": "code",
   "execution_count": 156,
   "metadata": {},
   "outputs": [
    {
     "data": {
      "text/html": [
       "<div>\n",
       "<style scoped>\n",
       "    .dataframe tbody tr th:only-of-type {\n",
       "        vertical-align: middle;\n",
       "    }\n",
       "\n",
       "    .dataframe tbody tr th {\n",
       "        vertical-align: top;\n",
       "    }\n",
       "\n",
       "    .dataframe thead th {\n",
       "        text-align: right;\n",
       "    }\n",
       "</style>\n",
       "<table border=\"1\" class=\"dataframe\">\n",
       "  <thead>\n",
       "    <tr style=\"text-align: right;\">\n",
       "      <th></th>\n",
       "      <th>0</th>\n",
       "      <th>1</th>\n",
       "      <th>2</th>\n",
       "    </tr>\n",
       "  </thead>\n",
       "  <tbody>\n",
       "    <tr>\n",
       "      <th>0</th>\n",
       "      <td>1</td>\n",
       "      <td>2.0</td>\n",
       "      <td>4.0</td>\n",
       "    </tr>\n",
       "    <tr>\n",
       "      <th>1</th>\n",
       "      <td>2</td>\n",
       "      <td>3.0</td>\n",
       "      <td>4.0</td>\n",
       "    </tr>\n",
       "    <tr>\n",
       "      <th>2</th>\n",
       "      <td>5</td>\n",
       "      <td>2.5</td>\n",
       "      <td>3.0</td>\n",
       "    </tr>\n",
       "  </tbody>\n",
       "</table>\n",
       "</div>"
      ],
      "text/plain": [
       "   0    1    2\n",
       "0  1  2.0  4.0\n",
       "1  2  3.0  4.0\n",
       "2  5  2.5  3.0"
      ]
     },
     "execution_count": 156,
     "metadata": {},
     "output_type": "execute_result"
    }
   ],
   "source": [
    "#this will fill with mean of the respective columns\n",
    "df.fillna(value = df.mean(axis='columns'),axis=0)"
   ]
  },
  {
   "cell_type": "code",
   "execution_count": 157,
   "metadata": {},
   "outputs": [
    {
     "ename": "NotImplementedError",
     "evalue": "Currently only can fill with dict/Series column by column",
     "output_type": "error",
     "traceback": [
      "\u001b[0;31m---------------------------------------------------------------------------\u001b[0m",
      "\u001b[0;31mNotImplementedError\u001b[0m                       Traceback (most recent call last)",
      "\u001b[0;32m<ipython-input-157-b6e602204228>\u001b[0m in \u001b[0;36m<module>\u001b[0;34m\u001b[0m\n\u001b[1;32m      1\u001b[0m \u001b[0;31m#trying to fill along along axis 1 will throw an NotImplementedError depending on the version of pandas\u001b[0m\u001b[0;34m\u001b[0m\u001b[0;34m\u001b[0m\u001b[0;34m\u001b[0m\u001b[0m\n\u001b[0;32m----> 2\u001b[0;31m \u001b[0mdf\u001b[0m\u001b[0;34m.\u001b[0m\u001b[0mfillna\u001b[0m\u001b[0;34m(\u001b[0m\u001b[0mvalue\u001b[0m \u001b[0;34m=\u001b[0m \u001b[0mdf\u001b[0m\u001b[0;34m.\u001b[0m\u001b[0mmean\u001b[0m\u001b[0;34m(\u001b[0m\u001b[0maxis\u001b[0m\u001b[0;34m=\u001b[0m\u001b[0;34m'columns'\u001b[0m\u001b[0;34m)\u001b[0m\u001b[0;34m,\u001b[0m\u001b[0maxis\u001b[0m\u001b[0;34m=\u001b[0m\u001b[0;36m1\u001b[0m\u001b[0;34m)\u001b[0m\u001b[0;34m\u001b[0m\u001b[0;34m\u001b[0m\u001b[0m\n\u001b[0m",
      "\u001b[0;32m~/opt/anaconda3/envs/ml_learning/lib/python3.8/site-packages/pandas/core/frame.py\u001b[0m in \u001b[0;36mfillna\u001b[0;34m(self, value, method, axis, inplace, limit, downcast)\u001b[0m\n\u001b[1;32m   4145\u001b[0m         \u001b[0mdowncast\u001b[0m\u001b[0;34m=\u001b[0m\u001b[0;32mNone\u001b[0m\u001b[0;34m,\u001b[0m\u001b[0;34m\u001b[0m\u001b[0;34m\u001b[0m\u001b[0m\n\u001b[1;32m   4146\u001b[0m     ) -> Optional[\"DataFrame\"]:\n\u001b[0;32m-> 4147\u001b[0;31m         return super().fillna(\n\u001b[0m\u001b[1;32m   4148\u001b[0m             \u001b[0mvalue\u001b[0m\u001b[0;34m=\u001b[0m\u001b[0mvalue\u001b[0m\u001b[0;34m,\u001b[0m\u001b[0;34m\u001b[0m\u001b[0;34m\u001b[0m\u001b[0m\n\u001b[1;32m   4149\u001b[0m             \u001b[0mmethod\u001b[0m\u001b[0;34m=\u001b[0m\u001b[0mmethod\u001b[0m\u001b[0;34m,\u001b[0m\u001b[0;34m\u001b[0m\u001b[0;34m\u001b[0m\u001b[0m\n",
      "\u001b[0;32m~/opt/anaconda3/envs/ml_learning/lib/python3.8/site-packages/pandas/core/generic.py\u001b[0m in \u001b[0;36mfillna\u001b[0;34m(self, value, method, axis, inplace, limit, downcast)\u001b[0m\n\u001b[1;32m   6219\u001b[0m             \u001b[0;32melif\u001b[0m \u001b[0misinstance\u001b[0m\u001b[0;34m(\u001b[0m\u001b[0mvalue\u001b[0m\u001b[0;34m,\u001b[0m \u001b[0;34m(\u001b[0m\u001b[0mdict\u001b[0m\u001b[0;34m,\u001b[0m \u001b[0mABCSeries\u001b[0m\u001b[0;34m)\u001b[0m\u001b[0;34m)\u001b[0m\u001b[0;34m:\u001b[0m\u001b[0;34m\u001b[0m\u001b[0;34m\u001b[0m\u001b[0m\n\u001b[1;32m   6220\u001b[0m                 \u001b[0;32mif\u001b[0m \u001b[0maxis\u001b[0m \u001b[0;34m==\u001b[0m \u001b[0;36m1\u001b[0m\u001b[0;34m:\u001b[0m\u001b[0;34m\u001b[0m\u001b[0;34m\u001b[0m\u001b[0m\n\u001b[0;32m-> 6221\u001b[0;31m                     raise NotImplementedError(\n\u001b[0m\u001b[1;32m   6222\u001b[0m                         \u001b[0;34m\"Currently only can fill \"\u001b[0m\u001b[0;34m\u001b[0m\u001b[0;34m\u001b[0m\u001b[0m\n\u001b[1;32m   6223\u001b[0m                         \u001b[0;34m\"with dict/Series column \"\u001b[0m\u001b[0;34m\u001b[0m\u001b[0;34m\u001b[0m\u001b[0m\n",
      "\u001b[0;31mNotImplementedError\u001b[0m: Currently only can fill with dict/Series column by column"
     ]
    }
   ],
   "source": [
    "#trying to fill along along axis 1 will throw an NotImplementedError depending on the version of pandas\n",
    "df.fillna(value = df.mean(axis='columns'),axis=1)"
   ]
  },
  {
   "cell_type": "code",
   "execution_count": 177,
   "metadata": {},
   "outputs": [
    {
     "name": "stdout",
     "output_type": "stream",
     "text": [
      "pandas dataframe is :\n",
      "     0    1    2\n",
      "0  1  2.0  3.0\n",
      "1  2  3.0  3.0\n",
      "2  5  2.5  3.0\n",
      "\n",
      "0    1.0\n",
      "1    2.0\n",
      "2    3.0\n",
      "Name: 0, dtype: float64\n",
      "0    2.0\n",
      "1    3.0\n",
      "2    3.0\n",
      "Name: 1, dtype: float64\n",
      "0    5.0\n",
      "1    2.5\n",
      "2    3.0\n",
      "Name: 2, dtype: float64\n"
     ]
    },
    {
     "data": {
      "text/plain": [
       "0    None\n",
       "1    None\n",
       "2    None\n",
       "dtype: object"
      ]
     },
     "execution_count": 177,
     "metadata": {},
     "output_type": "execute_result"
    }
   ],
   "source": [
    "# so, what to do if you need to fill missing value for different rows with a series.\n",
    "# Do it with a apply method.\n",
    "print('pandas dataframe is :\\n ',df)\n",
    "print()\n",
    "df.apply(lambda x: print(x),axis=1) # axis 0 will print along the rows"
   ]
  },
  {
   "cell_type": "code",
   "execution_count": 176,
   "metadata": {},
   "outputs": [
    {
     "data": {
      "text/html": [
       "<div>\n",
       "<style scoped>\n",
       "    .dataframe tbody tr th:only-of-type {\n",
       "        vertical-align: middle;\n",
       "    }\n",
       "\n",
       "    .dataframe tbody tr th {\n",
       "        vertical-align: top;\n",
       "    }\n",
       "\n",
       "    .dataframe thead th {\n",
       "        text-align: right;\n",
       "    }\n",
       "</style>\n",
       "<table border=\"1\" class=\"dataframe\">\n",
       "  <thead>\n",
       "    <tr style=\"text-align: right;\">\n",
       "      <th></th>\n",
       "      <th>0</th>\n",
       "      <th>1</th>\n",
       "      <th>2</th>\n",
       "    </tr>\n",
       "  </thead>\n",
       "  <tbody>\n",
       "    <tr>\n",
       "      <th>0</th>\n",
       "      <td>1.0</td>\n",
       "      <td>2.0</td>\n",
       "      <td>3.0</td>\n",
       "    </tr>\n",
       "    <tr>\n",
       "      <th>1</th>\n",
       "      <td>2.0</td>\n",
       "      <td>3.0</td>\n",
       "      <td>3.0</td>\n",
       "    </tr>\n",
       "    <tr>\n",
       "      <th>2</th>\n",
       "      <td>5.0</td>\n",
       "      <td>2.5</td>\n",
       "      <td>3.0</td>\n",
       "    </tr>\n",
       "  </tbody>\n",
       "</table>\n",
       "</div>"
      ],
      "text/plain": [
       "     0    1    2\n",
       "0  1.0  2.0  3.0\n",
       "1  2.0  3.0  3.0\n",
       "2  5.0  2.5  3.0"
      ]
     },
     "execution_count": 176,
     "metadata": {},
     "output_type": "execute_result"
    }
   ],
   "source": [
    "# so if we wanna fill null values within rows with their respective row means we can do as below using lambda method and axis param\n",
    "df.apply(lambda x: x.fillna(x.mean()),axis=1)"
   ]
  },
  {
   "cell_type": "code",
   "execution_count": 181,
   "metadata": {},
   "outputs": [
    {
     "name": "stdout",
     "output_type": "stream",
     "text": [
      "pandas dataframe is : \n",
      "    0    1    2\n",
      "0  1  2.0  NaN\n",
      "1  2  3.0  NaN\n",
      "2  5  NaN  3.0\n",
      "pandas df after filling column 1 with its mean:\n",
      "    0    1    2\n",
      "0  1  2.0  NaN\n",
      "1  2  3.0  NaN\n",
      "2  5  2.5  3.0\n"
     ]
    }
   ],
   "source": [
    "# filling in a specific column using its mean\n",
    "df = pd.DataFrame([[1,2,np.NaN],[2,3,np.NaN],[5,np.NaN,3]])\n",
    "print('pandas dataframe is : \\n',df)\n",
    "\n",
    "df[1] = df[1].fillna(value=df[1].mean())\n",
    "print(\"pandas df after filling column 1 with its mean:\\n\",df)"
   ]
  },
  {
   "cell_type": "code",
   "execution_count": 199,
   "metadata": {},
   "outputs": [
    {
     "name": "stdout",
     "output_type": "stream",
     "text": [
      "pandas df after filling column 1 with its mean:\n",
      "      0    1    2\n",
      "0  1.0  2.0  NaN\n",
      "1  2.0  3.0  2.5\n",
      "2  5.0  NaN  3.0\n"
     ]
    }
   ],
   "source": [
    "# filling in a specific row using its mean\n",
    "df = pd.DataFrame([[1,2,np.NaN],[2,3,np.NaN],[5,np.NaN,3]])\n",
    "df.iloc[1] = df.iloc[1].fillna(value=df.iloc[1].mean())\n",
    "print(\"pandas df after filling column 1 with its mean:\\n\",df)"
   ]
  },
  {
   "cell_type": "code",
   "execution_count": 207,
   "metadata": {},
   "outputs": [
    {
     "name": "stdout",
     "output_type": "stream",
     "text": [
      "pandas dataframe is : \n",
      "      0    1    2\n",
      "0  1.0  2.0  NaN\n",
      "1  2.0  3.0  2.5\n",
      "2  5.0  2.0  3.0\n",
      "\n",
      "\n",
      "pandas dataframe after filling a specific element:\n",
      "      0    1    2\n",
      "0  1.0  2.0  NaN\n",
      "1  2.0  3.0  2.5\n",
      "2  5.0  2.0  3.0\n"
     ]
    }
   ],
   "source": [
    "# filling a specific element in pandas dataframe is just through assigning it\n",
    "print(\"pandas dataframe is : \\n\",df)\n",
    "print('\\n')\n",
    "df.iloc[2,1] = 2\n",
    "\n",
    "print(\"pandas dataframe after filling a specific element:\\n\",df)"
   ]
  },
  {
   "cell_type": "code",
   "execution_count": null,
   "metadata": {},
   "outputs": [],
   "source": []
  }
 ],
 "metadata": {
  "kernelspec": {
   "display_name": "Python 3",
   "language": "python",
   "name": "python3"
  },
  "language_info": {
   "codemirror_mode": {
    "name": "ipython",
    "version": 3
   },
   "file_extension": ".py",
   "mimetype": "text/x-python",
   "name": "python",
   "nbconvert_exporter": "python",
   "pygments_lexer": "ipython3",
   "version": "3.7.7"
  }
 },
 "nbformat": 4,
 "nbformat_minor": 4
}

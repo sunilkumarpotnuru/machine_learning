{
 "cells": [
  {
   "cell_type": "markdown",
   "metadata": {},
   "source": [
    "# Entropy calculates the expected no. of bits required to transfer the data of a random variable\n"
   ]
  },
  {
   "cell_type": "code",
   "execution_count": 1,
   "metadata": {},
   "outputs": [
    {
     "name": "stdout",
     "output_type": "stream",
     "text": [
      "Entropy of random variable X : 2.12\n"
     ]
    }
   ],
   "source": [
    "#sample probability distribution of a random variable X\n",
    "X_prob = [0.1,0.2,0.4,0.2,0.1]\n",
    "\n",
    "from scipy.stats import entropy\n",
    "X_entropy = entropy(pk=X_prob,base=2)\n",
    "print('Entropy of random variable X : %.2f' %X_entropy)\n"
   ]
  },
  {
   "cell_type": "code",
   "execution_count": 2,
   "metadata": {},
   "outputs": [
    {
     "name": "stdout",
     "output_type": "stream",
     "text": [
      "X1 entropy : 1.85 \n",
      "X2 entropy : 1.85\n"
     ]
    }
   ],
   "source": [
    "X1_prob = [0.1,0.2,0.3,0.4]\n",
    "X2_prob = [0.2,0.1,0.4,0.3]\n",
    "\n",
    "X1_entropy = entropy(pk=X1_prob,base=2)\n",
    "X2_entropy = entropy(pk=X2_prob,base=2)\n",
    "\n",
    "print('X1 entropy : %.2f ' %X1_entropy)\n",
    "print('X2 entropy : %.2f' %X2_entropy)"
   ]
  },
  {
   "cell_type": "markdown",
   "metadata": {},
   "source": [
    "## entropy is same if distribution of two random variables is similar no matter what the actual values of random variable sare"
   ]
  },
  {
   "cell_type": "code",
   "execution_count": 3,
   "metadata": {},
   "outputs": [
    {
     "name": "stdout",
     "output_type": "stream",
     "text": [
      "X1 and X2 relative entropy : 0.14\n",
      "X2 and X1 relative entropy : 0.14\n"
     ]
    }
   ],
   "source": [
    "X1_X2_relative_entropy = entropy(pk=X1_prob,qk=X2_prob,base=2)\n",
    "X2_X1_relative_entropy = entropy(pk=X2_prob,qk=X1_prob,base=2)\n",
    "print('X1 and X2 relative entropy : %.2f' %X1_X2_relative_entropy)\n",
    "print('X2 and X1 relative entropy : %.2f' % X2_X1_relative_entropy)"
   ]
  },
  {
   "cell_type": "code",
   "execution_count": 4,
   "metadata": {},
   "outputs": [
    {
     "name": "stdout",
     "output_type": "stream",
     "text": [
      "X3 entropy : 1.76 \n"
     ]
    }
   ],
   "source": [
    "X3_prob = [0.2,0.5,0.1,0.2]\n",
    "X3_entropy = entropy(pk=X3_prob,base=2)\n",
    "print('X3 entropy : %.2f ' %X3_entropy)\n"
   ]
  },
  {
   "cell_type": "code",
   "execution_count": 5,
   "metadata": {},
   "outputs": [
    {
     "name": "stdout",
     "output_type": "stream",
     "text": [
      "X1 and X3 relative entropy : 0.51\n",
      "X3 and X1 relative entropy : 0.50\n"
     ]
    }
   ],
   "source": [
    "X1_X3_relative_entropy = entropy(pk=X1_prob,qk=X3_prob,base=2)\n",
    "X3_X1_relative_entropy = entropy(pk=X3_prob,qk=X1_prob,base=2)\n",
    "print('X1 and X3 relative entropy : %.2f' %X1_X3_relative_entropy)\n",
    "print('X3 and X1 relative entropy : %.2f' % X3_X1_relative_entropy)"
   ]
  },
  {
   "cell_type": "code",
   "execution_count": 6,
   "metadata": {},
   "outputs": [
    {
     "name": "stdout",
     "output_type": "stream",
     "text": [
      "(569, 30)\n",
      "(569,)\n",
      "['mean radius' 'mean texture' 'mean perimeter' 'mean area'\n",
      " 'mean smoothness' 'mean compactness' 'mean concavity'\n",
      " 'mean concave points' 'mean symmetry' 'mean fractal dimension'\n",
      " 'radius error' 'texture error' 'perimeter error' 'area error'\n",
      " 'smoothness error' 'compactness error' 'concavity error'\n",
      " 'concave points error' 'symmetry error' 'fractal dimension error'\n",
      " 'worst radius' 'worst texture' 'worst perimeter' 'worst area'\n",
      " 'worst smoothness' 'worst compactness' 'worst concavity'\n",
      " 'worst concave points' 'worst symmetry' 'worst fractal dimension']\n"
     ]
    }
   ],
   "source": [
    "#calculating entropy of target variable of a dataset\n",
    "from sklearn.datasets import load_breast_cancer\n",
    "dataset = load_breast_cancer()\n",
    "print(dataset.data.shape)\n",
    "print(dataset.target.shape)\n",
    "print(dataset.feature_names)"
   ]
  },
  {
   "cell_type": "code",
   "execution_count": 7,
   "metadata": {},
   "outputs": [
    {
     "name": "stdout",
     "output_type": "stream",
     "text": [
      "[0 0 0 0 0 0 0 0 0 0 0 0 0 0 0 0 0 0 0 1 1 1 0 0 0 0 0 0 0 0 0 0 0 0 0 0 0\n",
      " 1 0 0 0 0 0 0 0 0 1 0 1 1 1 1 1 0 0 1 0 0 1 1 1 1 0 1 0 0 1 1 1 1 0 1 0 0\n",
      " 1 0 1 0 0 1 1 1 0 0 1 0 0 0 1 1 1 0 1 1 0 0 1 1 1 0 0 1 1 1 1 0 1 1 0 1 1\n",
      " 1 1 1 1 1 1 0 0 0 1 0 0 1 1 1 0 0 1 0 1 0 0 1 0 0 1 1 0 1 1 0 1 1 1 1 0 1\n",
      " 1 1 1 1 1 1 1 1 0 1 1 1 1 0 0 1 0 1 1 0 0 1 1 0 0 1 1 1 1 0 1 1 0 0 0 1 0\n",
      " 1 0 1 1 1 0 1 1 0 0 1 0 0 0 0 1 0 0 0 1 0 1 0 1 1 0 1 0 0 0 0 1 1 0 0 1 1\n",
      " 1 0 1 1 1 1 1 0 0 1 1 0 1 1 0 0 1 0 1 1 1 1 0 1 1 1 1 1 0 1 0 0 0 0 0 0 0\n",
      " 0 0 0 0 0 0 0 1 1 1 1 1 1 0 1 0 1 1 0 1 1 0 1 0 0 1 1 1 1 1 1 1 1 1 1 1 1\n",
      " 1 0 1 1 0 1 0 1 1 1 1 1 1 1 1 1 1 1 1 1 1 0 1 1 1 0 1 0 1 1 1 1 0 0 0 1 1\n",
      " 1 1 0 1 0 1 0 1 1 1 0 1 1 1 1 1 1 1 0 0 0 1 1 1 1 1 1 1 1 1 1 1 0 0 1 0 0\n",
      " 0 1 0 0 1 1 1 1 1 0 1 1 1 1 1 0 1 1 1 0 1 1 0 0 1 1 1 1 1 1 0 1 1 1 1 1 1\n",
      " 1 0 1 1 1 1 1 0 1 1 0 1 1 1 1 1 1 1 1 1 1 1 1 0 1 0 0 1 0 1 1 1 1 1 0 1 1\n",
      " 0 1 0 1 1 0 1 0 1 1 1 1 1 1 1 1 0 0 1 1 1 1 1 1 0 1 1 1 1 1 1 1 1 1 1 0 1\n",
      " 1 1 1 1 1 1 0 1 0 1 1 0 1 1 1 1 1 0 0 1 0 1 0 1 1 1 1 1 0 1 1 0 1 0 1 0 0\n",
      " 1 1 1 0 1 1 1 1 1 1 1 1 1 1 1 0 1 0 0 1 1 1 1 1 1 1 1 1 1 1 1 1 1 1 1 1 1\n",
      " 1 1 1 1 1 1 1 0 0 0 0 0 0 1]\n"
     ]
    }
   ],
   "source": [
    "print(dataset.target)"
   ]
  },
  {
   "cell_type": "code",
   "execution_count": 8,
   "metadata": {},
   "outputs": [
    {
     "ename": "NameError",
     "evalue": "name 'np' is not defined",
     "output_type": "error",
     "traceback": [
      "\u001b[0;31m---------------------------------------------------------------------------\u001b[0m",
      "\u001b[0;31mNameError\u001b[0m                                 Traceback (most recent call last)",
      "\u001b[0;32m<ipython-input-8-f48531c36456>\u001b[0m in \u001b[0;36m<module>\u001b[0;34m\u001b[0m\n\u001b[1;32m      1\u001b[0m \u001b[0;32mfrom\u001b[0m \u001b[0mmatplotlib\u001b[0m \u001b[0;32mimport\u001b[0m \u001b[0mpyplot\u001b[0m \u001b[0;32mas\u001b[0m \u001b[0mplt\u001b[0m\u001b[0;34m\u001b[0m\u001b[0;34m\u001b[0m\u001b[0m\n\u001b[0;32m----> 2\u001b[0;31m \u001b[0mtarget_y\u001b[0m\u001b[0;34m,\u001b[0m\u001b[0mtarget_count\u001b[0m \u001b[0;34m=\u001b[0m \u001b[0mnp\u001b[0m\u001b[0;34m.\u001b[0m\u001b[0munique\u001b[0m\u001b[0;34m(\u001b[0m\u001b[0mdataset\u001b[0m\u001b[0;34m.\u001b[0m\u001b[0mtarget\u001b[0m\u001b[0;34m,\u001b[0m\u001b[0mreturn_counts\u001b[0m\u001b[0;34m=\u001b[0m\u001b[0;32mTrue\u001b[0m\u001b[0;34m)\u001b[0m\u001b[0;34m\u001b[0m\u001b[0;34m\u001b[0m\u001b[0m\n\u001b[0m\u001b[1;32m      3\u001b[0m \u001b[0mprint\u001b[0m\u001b[0;34m(\u001b[0m\u001b[0mtarget_y\u001b[0m\u001b[0;34m,\u001b[0m\u001b[0mtarget_count\u001b[0m\u001b[0;34m)\u001b[0m\u001b[0;34m\u001b[0m\u001b[0;34m\u001b[0m\u001b[0m\n\u001b[1;32m      4\u001b[0m \u001b[0mplt\u001b[0m\u001b[0;34m.\u001b[0m\u001b[0mbar\u001b[0m\u001b[0;34m(\u001b[0m\u001b[0mx\u001b[0m\u001b[0;34m=\u001b[0m\u001b[0mtarget_y\u001b[0m\u001b[0;34m.\u001b[0m\u001b[0mastype\u001b[0m\u001b[0;34m(\u001b[0m\u001b[0;34m'str'\u001b[0m\u001b[0;34m)\u001b[0m\u001b[0;34m,\u001b[0m\u001b[0mheight\u001b[0m\u001b[0;34m=\u001b[0m\u001b[0mtarget_count\u001b[0m\u001b[0;34m)\u001b[0m\u001b[0;34m\u001b[0m\u001b[0;34m\u001b[0m\u001b[0m\n\u001b[1;32m      5\u001b[0m \u001b[0mplt\u001b[0m\u001b[0;34m.\u001b[0m\u001b[0mshow\u001b[0m\u001b[0;34m(\u001b[0m\u001b[0;34m)\u001b[0m\u001b[0;34m\u001b[0m\u001b[0;34m\u001b[0m\u001b[0m\n",
      "\u001b[0;31mNameError\u001b[0m: name 'np' is not defined"
     ]
    }
   ],
   "source": [
    "from matplotlib import pyplot as plt\n",
    "target_y,target_count = np.unique(dataset.target,return_counts=True)\n",
    "print(target_y,target_count)\n",
    "plt.bar(x=target_y.astype('str'),height=target_count)\n",
    "plt.show()"
   ]
  },
  {
   "cell_type": "code",
   "execution_count": null,
   "metadata": {},
   "outputs": [],
   "source": [
    "# entropy of target variable\n",
    "target_prob = target_count / target_count.sum()\n",
    "target_entropy = entropy(target_prob,base=2)\n",
    "print('entropy of target variable : %.2f' %target_entropy)"
   ]
  },
  {
   "cell_type": "code",
   "execution_count": null,
   "metadata": {},
   "outputs": [],
   "source": [
    "#first feature of data\n",
    "dataset.data[:,0]"
   ]
  },
  {
   "cell_type": "code",
   "execution_count": null,
   "metadata": {},
   "outputs": [],
   "source": [
    "# entropy of a continous feature variable\n",
    "data_0_hist = plt.hist(dataset.data[:,0],density=True)\n",
    "print('entropy of first feature of dataset is : %.2f' %entropy(data_0_hist[0]))"
   ]
  },
  {
   "cell_type": "markdown",
   "metadata": {},
   "source": [
    "## End of Entropy"
   ]
  },
  {
   "cell_type": "markdown",
   "metadata": {},
   "source": [
    "## Begininning of Mutual Information / Information Gain"
   ]
  },
  {
   "cell_type": "code",
   "execution_count": null,
   "metadata": {},
   "outputs": [],
   "source": [
    "from sklearn.datasets import load_breast_cancer\n",
    "from sklearn.feature_selection import mutual_info_classif\n",
    "\n",
    "dataset = load_breast_cancer()\n",
    "\n",
    "# two features and a target variable\n",
    "X1 = dataset.data[:,0]\n",
    "X2 = dataset.data[:,1]\n",
    "y = dataset.target\n",
    "\n",
    "\n",
    "print(X1.shape)\n",
    "X1_y_mut_info = mutual_info_classif(X1.reshape(-1,1),y)\n",
    "X2_y_mut_info = mutual_info_classif(X2.reshape(-1,1),y)\n",
    "print('mutual information for X1 and target : %.2f'%X1_y_mut_info )\n",
    "print('mutual information for X2 and target : %.2f'%X2_y_mut_info)"
   ]
  },
  {
   "cell_type": "code",
   "execution_count": null,
   "metadata": {},
   "outputs": [],
   "source": [
    "from sklearn.feature_selection import mutual_info_regression\n",
    "\n",
    "X1_X2_mut_info = mutual_info_regression(X1.reshape(-1,1),X2)\n",
    "X2_X1_mut_info = mutual_info_regression(X2.reshape(-1,1),X1)\n",
    "print('mutual information for X1 and X2 : %.2f'%X1_X2_mut_info )\n",
    "print('mutual information for X2 and X1 : %.2f'%X2_X1_mut_info )"
   ]
  },
  {
   "cell_type": "code",
   "execution_count": null,
   "metadata": {},
   "outputs": [],
   "source": []
  },
  {
   "cell_type": "markdown",
   "metadata": {},
   "source": [
    "## mutual information of entire dataset w.r.t target variable for classification"
   ]
  },
  {
   "cell_type": "code",
   "execution_count": 20,
   "metadata": {},
   "outputs": [
    {
     "name": "stdout",
     "output_type": "stream",
     "text": [
      "mutual information of dataset w.r.t target :  [0.3665454  0.09271271 0.40125492 0.36120568 0.07966808 0.21216115\n",
      " 0.37491512 0.44094082 0.06574609 0.00976451 0.24986033 0.00134998\n",
      " 0.27548336 0.33884374 0.01641917 0.07349477 0.11503935 0.12751569\n",
      " 0.01650075 0.03775265 0.45541928 0.11900826 0.47673888 0.46484684\n",
      " 0.1000481  0.22514291 0.31812574 0.43632021 0.09496647 0.06783685]\n"
     ]
    }
   ],
   "source": [
    "from sklearn.feature_selection import mutual_info_classif\n",
    "from sklearn.datasets import load_breast_cancer\n",
    "\n",
    "dataset = load_breast_cancer()\n",
    "dataset_mut_info = mutual_info_classif(dataset.data,dataset.target)\n",
    "print('mutual information of dataset w.r.t target : ',dataset_mut_info)\n"
   ]
  },
  {
   "cell_type": "code",
   "execution_count": 21,
   "metadata": {},
   "outputs": [
    {
     "data": {
      "image/png": "[encoded data removed]",
      "text/plain": [
       "<Figure size 432x288 with 1 Axes>"
      ]
     },
     "metadata": {
      "needs_background": "light"
     },
     "output_type": "display_data"
    }
   ],
   "source": [
    "#barplot of mutual info\n",
    "from matplotlib import pyplot as plt\n",
    "plt.bar(dataset.feature_names,dataset_mut_info)\n",
    "plt.show()\n"
   ]
  },
  {
   "cell_type": "code",
   "execution_count": null,
   "metadata": {},
   "outputs": [],
   "source": []
  },
  {
   "cell_type": "code",
   "execution_count": 28,
   "metadata": {},
   "outputs": [
    {
     "name": "stdout",
     "output_type": "stream",
     "text": [
      "dataset features shape :  (569, 30)\n",
      "selected features shape :  (569, 10)\n"
     ]
    }
   ],
   "source": [
    "# selecting best k features based on mutual information for classification problem\n",
    "\n",
    "from sklearn.feature_selection import SelectKBest\n",
    "mut_info_best_features = SelectKBest(score_func=mutual_info_classif).fit_transform(dataset.data,dataset.target)\n",
    "print('dataset features shape : ',dataset.data.shape)\n",
    "print('selected features shape : ',mut_info_best_features.shape)"
   ]
  },
  {
   "cell_type": "code",
   "execution_count": 29,
   "metadata": {},
   "outputs": [
    {
     "data": {
      "text/plain": [
       "array([[1.799e+01, 1.228e+02, 1.001e+03, ..., 1.846e+02, 2.019e+03,\n",
       "        2.654e-01],\n",
       "       [2.057e+01, 1.329e+02, 1.326e+03, ..., 1.588e+02, 1.956e+03,\n",
       "        1.860e-01],\n",
       "       [1.969e+01, 1.300e+02, 1.203e+03, ..., 1.525e+02, 1.709e+03,\n",
       "        2.430e-01],\n",
       "       ...,\n",
       "       [1.660e+01, 1.083e+02, 8.581e+02, ..., 1.267e+02, 1.124e+03,\n",
       "        1.418e-01],\n",
       "       [2.060e+01, 1.401e+02, 1.265e+03, ..., 1.846e+02, 1.821e+03,\n",
       "        2.650e-01],\n",
       "       [7.760e+00, 4.792e+01, 1.810e+02, ..., 5.916e+01, 2.686e+02,\n",
       "        0.000e+00]])"
      ]
     },
     "execution_count": 29,
     "metadata": {},
     "output_type": "execute_result"
    }
   ],
   "source": [
    "mut_info_best_features"
   ]
  },
  {
   "cell_type": "code",
   "execution_count": 31,
   "metadata": {},
   "outputs": [
    {
     "name": "stdout",
     "output_type": "stream",
     "text": [
      "dataset features shape :  (569, 30)\n",
      "selected features shape :  (569, 5)\n"
     ]
    }
   ],
   "source": [
    "#selecting a random k value best features\n",
    "mut_info_best_features = SelectKBest(score_func=mutual_info_classif,k=5).fit_transform(dataset.data,dataset.target)\n",
    "print('dataset features shape : ',dataset.data.shape)\n",
    "print('selected features shape : ',mut_info_best_features.shape)"
   ]
  },
  {
   "cell_type": "code",
   "execution_count": null,
   "metadata": {},
   "outputs": [],
   "source": []
  },
  {
   "cell_type": "markdown",
   "metadata": {},
   "source": [
    "## The End"
   ]
  },
  {
   "cell_type": "code",
   "execution_count": null,
   "metadata": {},
   "outputs": [],
   "source": []
  },
  {
   "cell_type": "code",
   "execution_count": null,
   "metadata": {},
   "outputs": [],
   "source": []
  },
  {
   "cell_type": "code",
   "execution_count": null,
   "metadata": {},
   "outputs": [],
   "source": []
  },
  {
   "cell_type": "code",
   "execution_count": null,
   "metadata": {},
   "outputs": [],
   "source": []
  },
  {
   "cell_type": "code",
   "execution_count": null,
   "metadata": {},
   "outputs": [],
   "source": []
  },
  {
   "cell_type": "code",
   "execution_count": null,
   "metadata": {},
   "outputs": [],
   "source": []
  },
  {
   "cell_type": "code",
   "execution_count": null,
   "metadata": {},
   "outputs": [],
   "source": []
  },
  {
   "cell_type": "code",
   "execution_count": null,
   "metadata": {},
   "outputs": [],
   "source": []
  }
 ],
 "metadata": {
  "kernelspec": {
   "display_name": "Python 3",
   "language": "python",
   "name": "python3"
  },
  "language_info": {
   "codemirror_mode": {
    "name": "ipython",
    "version": 3
   },
   "file_extension": ".py",
   "mimetype": "text/x-python",
   "name": "python",
   "nbconvert_exporter": "python",
   "pygments_lexer": "ipython3",
   "version": "3.7.9"
  }
 },
 "nbformat": 4,
 "nbformat_minor": 4
}
